{
  "metadata": {
    "kernelspec": {
      "name": "python3",
      "display_name": "Python 3",
      "language": "python"
    },
    "language_info": {
      "name": "python",
      "version": "3.7.12",
      "mimetype": "text/x-python",
      "codemirror_mode": {
        "name": "ipython",
        "version": 3
      },
      "pygments_lexer": "ipython3",
      "nbconvert_exporter": "python",
      "file_extension": ".py"
    },
    "colab": {
      "provenance": [],
      "gpuType": "T4",
      "include_colab_link": true
    },
    "accelerator": "GPU",
    "kaggle": {
      "accelerator": "gpu",
      "dataSources": [
        {
          "sourceId": 2645886,
          "sourceType": "datasetVersion",
          "datasetId": 1608934
        },
        {
          "sourceId": 4987732,
          "sourceType": "datasetVersion",
          "datasetId": 2892866
        }
      ],
      "dockerImageVersionId": 30407,
      "isInternetEnabled": false,
      "language": "python",
      "sourceType": "notebook",
      "isGpuEnabled": true
    }
  },
  "nbformat_minor": 0,
  "nbformat": 4,
  "cells": [
    {
      "cell_type": "markdown",
      "metadata": {
        "id": "view-in-github",
        "colab_type": "text"
      },
      "source": [
        "<a href=\"https://colab.research.google.com/github/ShengyuanWang/Brain-Tumor-Segementation-and-Classification/blob/main/transfer_learning_brain_tumor_classification.ipynb\" target=\"_parent\"><img src=\"https://colab.research.google.com/assets/colab-badge.svg\" alt=\"Open In Colab\"/></a>"
      ]
    },
    {
      "cell_type": "code",
      "source": [
        "import random\n",
        "import os\n",
        "import glob\n",
        "import time\n",
        "\n",
        "import pandas as pd\n",
        "import numpy as np\n",
        "import matplotlib.pyplot as plt\n",
        "import seaborn as sns\n",
        "\n",
        "import tensorflow as tf\n",
        "import tensorflow_hub as hub\n",
        "from tensorflow.keras import layers, Sequential\n",
        "from tensorflow.keras.utils import plot_model\n",
        "\n",
        "from sklearn.preprocessing import LabelEncoder\n",
        "from sklearn.model_selection import train_test_split\n",
        "from sklearn.metrics import classification_report, precision_recall_fscore_support\n",
        "from sklearn.metrics import accuracy_score, top_k_accuracy_score, f1_score, matthews_corrcoef\n",
        "from sklearn.metrics import confusion_matrix, ConfusionMatrixDisplay\n",
        "from scikitplot.metrics import plot_roc"
      ],
      "metadata": {
        "papermill": {
          "duration": 6.148519,
          "end_time": "2023-02-21T13:55:02.573066",
          "exception": false,
          "start_time": "2023-02-21T13:54:56.424547",
          "status": "completed"
        },
        "tags": [],
        "id": "1b93OVOLSh5X",
        "execution": {
          "iopub.status.busy": "2023-11-16T08:07:23.616448Z",
          "iopub.execute_input": "2023-11-16T08:07:23.617727Z",
          "iopub.status.idle": "2023-11-16T08:07:27.32225Z",
          "shell.execute_reply.started": "2023-11-16T08:07:23.617675Z",
          "shell.execute_reply": "2023-11-16T08:07:27.321065Z"
        },
        "trusted": true
      },
      "execution_count": null,
      "outputs": []
    },
    {
      "cell_type": "code",
      "source": [
        "class CFG:\n",
        "    EPOCHS = 50\n",
        "    BATCH_SIZE = 32\n",
        "    SEED = 42\n",
        "    TF_SEED = 768\n",
        "    HEIGHT = 224\n",
        "    WIDTH = 224\n",
        "    CHANNELS = 3\n",
        "    IMAGE_SIZE = (224, 224, 3)"
      ],
      "metadata": {
        "papermill": {
          "duration": 0.027497,
          "end_time": "2023-02-21T13:55:02.620276",
          "exception": false,
          "start_time": "2023-02-21T13:55:02.592779",
          "status": "completed"
        },
        "tags": [],
        "id": "FPRv7F6vSh5b",
        "execution": {
          "iopub.status.busy": "2023-11-16T08:07:27.328389Z",
          "iopub.execute_input": "2023-11-16T08:07:27.328759Z",
          "iopub.status.idle": "2023-11-16T08:07:27.33502Z",
          "shell.execute_reply.started": "2023-11-16T08:07:27.32872Z",
          "shell.execute_reply": "2023-11-16T08:07:27.333738Z"
        },
        "trusted": true
      },
      "execution_count": null,
      "outputs": []
    },
    {
      "cell_type": "markdown",
      "source": [
        "<a id='1'></a>\n",
        "# 1 | Dataset Exploration\n",
        "<div style=\"padding: 4px;color:white;margin:10;font-size:200%;text-align:center;display:fill;border-radius:10px;overflow:hidden;background-image: url(https://i.postimg.cc/T1D2yGny/167.jpg); background-size: 100% auto;\"></div>"
      ],
      "metadata": {
        "papermill": {
          "duration": 0.018629,
          "end_time": "2023-02-21T13:55:02.659072",
          "exception": false,
          "start_time": "2023-02-21T13:55:02.640443",
          "status": "completed"
        },
        "tags": [],
        "id": "E9K0WhdYSh5c"
      }
    },
    {
      "cell_type": "code",
      "source": [
        "# Define paths\n",
        "DATASET_PATH = \"/kaggle/input/brain-tumor-mri-dataset/Training/\""
      ],
      "metadata": {
        "papermill": {
          "duration": 0.027967,
          "end_time": "2023-02-21T13:55:02.706731",
          "exception": false,
          "start_time": "2023-02-21T13:55:02.678764",
          "status": "completed"
        },
        "tags": [],
        "id": "01Wc6IwWSh5d",
        "execution": {
          "iopub.status.busy": "2023-11-16T08:07:27.336907Z",
          "iopub.execute_input": "2023-11-16T08:07:27.337269Z",
          "iopub.status.idle": "2023-11-16T08:07:27.34758Z",
          "shell.execute_reply.started": "2023-11-16T08:07:27.337232Z",
          "shell.execute_reply": "2023-11-16T08:07:27.346514Z"
        },
        "trusted": true
      },
      "execution_count": null,
      "outputs": []
    },
    {
      "cell_type": "markdown",
      "source": [
        "<a id='1.1'></a>\n",
        "### Get image paths with glob"
      ],
      "metadata": {
        "papermill": {
          "duration": 0.019531,
          "end_time": "2023-02-21T13:55:06.517094",
          "exception": false,
          "start_time": "2023-02-21T13:55:06.497563",
          "status": "completed"
        },
        "tags": [],
        "id": "B7iwXiiLSh5e"
      }
    },
    {
      "cell_type": "code",
      "source": [
        "%%time\n",
        "dataset_images = glob.glob(f\"{DATASET_PATH}**/*.jpg\")"
      ],
      "metadata": {
        "papermill": {
          "duration": 0.042113,
          "end_time": "2023-02-21T13:55:06.578511",
          "exception": false,
          "start_time": "2023-02-21T13:55:06.536398",
          "status": "completed"
        },
        "tags": [],
        "id": "C_jR5-1WSh5f",
        "execution": {
          "iopub.status.busy": "2023-11-16T08:07:27.350661Z",
          "iopub.execute_input": "2023-11-16T08:07:27.350982Z",
          "iopub.status.idle": "2023-11-16T08:07:27.393265Z",
          "shell.execute_reply.started": "2023-11-16T08:07:27.350952Z",
          "shell.execute_reply": "2023-11-16T08:07:27.392198Z"
        },
        "trusted": true
      },
      "execution_count": null,
      "outputs": []
    },
    {
      "cell_type": "markdown",
      "source": [
        "<a id='1.2'></a>\n",
        "### View the number of images present in the dataset"
      ],
      "metadata": {
        "papermill": {
          "duration": 0.019134,
          "end_time": "2023-02-21T13:55:06.61766",
          "exception": false,
          "start_time": "2023-02-21T13:55:06.598526",
          "status": "completed"
        },
        "tags": [],
        "id": "qPHMYGx9Sh5i"
      }
    },
    {
      "cell_type": "code",
      "source": [
        "# Get dataset size\n",
        "total = len(dataset_images)\n",
        "\n",
        "# View samples counts\n",
        "print(f'TOTAL: {total}')"
      ],
      "metadata": {
        "papermill": {
          "duration": 0.029056,
          "end_time": "2023-02-21T13:55:06.665788",
          "exception": false,
          "start_time": "2023-02-21T13:55:06.636732",
          "status": "completed"
        },
        "tags": [],
        "id": "96Iae5PMSh5j",
        "execution": {
          "iopub.status.busy": "2023-11-16T08:07:27.394597Z",
          "iopub.execute_input": "2023-11-16T08:07:27.395355Z",
          "iopub.status.idle": "2023-11-16T08:07:27.400665Z",
          "shell.execute_reply.started": "2023-11-16T08:07:27.39531Z",
          "shell.execute_reply": "2023-11-16T08:07:27.399604Z"
        },
        "trusted": true
      },
      "execution_count": null,
      "outputs": []
    },
    {
      "cell_type": "markdown",
      "source": [
        "<a id='1.3'></a>\n",
        "### Create Pandas DataFrames for paths and labels"
      ],
      "metadata": {
        "papermill": {
          "duration": 0.019166,
          "end_time": "2023-02-21T13:55:06.704924",
          "exception": false,
          "start_time": "2023-02-21T13:55:06.685758",
          "status": "completed"
        },
        "tags": [],
        "id": "DMEH1wZvSh5k"
      }
    },
    {
      "cell_type": "code",
      "source": [
        "def generate_labels(image_paths):\n",
        "    return [_.split('/')[-2:][0] for _ in image_paths]\n",
        "\n",
        "\n",
        "def build_df(image_paths, labels):\n",
        "    # Create dataframe\n",
        "    df = pd.DataFrame({\n",
        "        'image_path': image_paths,\n",
        "        'label': generate_labels(labels)\n",
        "    })\n",
        "\n",
        "    # Shuffle and return df\n",
        "    return df.sample(frac=1, random_state=CFG.SEED).reset_index(drop=True)"
      ],
      "metadata": {
        "papermill": {
          "duration": 0.029011,
          "end_time": "2023-02-21T13:55:06.753231",
          "exception": false,
          "start_time": "2023-02-21T13:55:06.72422",
          "status": "completed"
        },
        "tags": [],
        "id": "PpJ-amVCSh5l",
        "execution": {
          "iopub.status.busy": "2023-11-16T08:07:27.402098Z",
          "iopub.execute_input": "2023-11-16T08:07:27.40251Z",
          "iopub.status.idle": "2023-11-16T08:07:27.41203Z",
          "shell.execute_reply.started": "2023-11-16T08:07:27.402469Z",
          "shell.execute_reply": "2023-11-16T08:07:27.411084Z"
        },
        "trusted": true
      },
      "execution_count": null,
      "outputs": []
    },
    {
      "cell_type": "code",
      "source": [
        "# Build the Dataset DataFrame\n",
        "dataset_df = build_df(dataset_images, generate_labels(dataset_images))"
      ],
      "metadata": {
        "papermill": {
          "duration": 0.082169,
          "end_time": "2023-02-21T13:55:06.854709",
          "exception": false,
          "start_time": "2023-02-21T13:55:06.77254",
          "status": "completed"
        },
        "tags": [],
        "id": "PNW-d9KvSh5m",
        "execution": {
          "iopub.status.busy": "2023-11-16T08:07:27.413147Z",
          "iopub.execute_input": "2023-11-16T08:07:27.413423Z",
          "iopub.status.idle": "2023-11-16T08:07:27.43151Z",
          "shell.execute_reply.started": "2023-11-16T08:07:27.413396Z",
          "shell.execute_reply": "2023-11-16T08:07:27.430511Z"
        },
        "trusted": true
      },
      "execution_count": null,
      "outputs": []
    },
    {
      "cell_type": "code",
      "source": [
        "# View first 5 samples in the dataset\n",
        "dataset_df.head(5)"
      ],
      "metadata": {
        "papermill": {
          "duration": 0.036219,
          "end_time": "2023-02-21T13:55:06.91041",
          "exception": false,
          "start_time": "2023-02-21T13:55:06.874191",
          "status": "completed"
        },
        "tags": [],
        "id": "mEng4S_JSh5m",
        "execution": {
          "iopub.status.busy": "2023-11-16T08:07:27.432898Z",
          "iopub.execute_input": "2023-11-16T08:07:27.433257Z",
          "iopub.status.idle": "2023-11-16T08:07:27.447747Z",
          "shell.execute_reply.started": "2023-11-16T08:07:27.433219Z",
          "shell.execute_reply": "2023-11-16T08:07:27.446718Z"
        },
        "trusted": true
      },
      "execution_count": null,
      "outputs": []
    },
    {
      "cell_type": "markdown",
      "source": [
        "### Label Encode Image Labels\n",
        "\n"
      ],
      "metadata": {
        "id": "EUrfbuS8Sh5n"
      }
    },
    {
      "cell_type": "code",
      "source": [
        "# Generate Label Encoder\n",
        "label_encoder = LabelEncoder()\n",
        "\n",
        "# Label Encode the Image Labels\n",
        "dataset_df['label_encoded'] = label_encoder.fit_transform(dataset_df.label)\n",
        "\n",
        "# View first 10 samples\n",
        "dataset_df.head(10)"
      ],
      "metadata": {
        "id": "Zj37cGroSh5n",
        "execution": {
          "iopub.status.busy": "2023-11-16T08:07:27.448943Z",
          "iopub.execute_input": "2023-11-16T08:07:27.449248Z",
          "iopub.status.idle": "2023-11-16T08:07:27.464527Z",
          "shell.execute_reply.started": "2023-11-16T08:07:27.449219Z",
          "shell.execute_reply": "2023-11-16T08:07:27.463372Z"
        },
        "trusted": true
      },
      "execution_count": null,
      "outputs": []
    },
    {
      "cell_type": "code",
      "source": [
        "# Get class names and number of classes from label_encoder\n",
        "num_classes = len(label_encoder.classes_)\n",
        "class_names = label_encoder.classes_\n",
        "\n",
        "print(f'Number of classes: {num_classes}')\n",
        "print(f'Classes: {class_names}')"
      ],
      "metadata": {
        "id": "nlzFrYKuSh5o",
        "execution": {
          "iopub.status.busy": "2023-11-16T08:07:27.466079Z",
          "iopub.execute_input": "2023-11-16T08:07:27.467036Z",
          "iopub.status.idle": "2023-11-16T08:07:27.475356Z",
          "shell.execute_reply.started": "2023-11-16T08:07:27.46699Z",
          "shell.execute_reply": "2023-11-16T08:07:27.474208Z"
        },
        "trusted": true
      },
      "execution_count": null,
      "outputs": []
    },
    {
      "cell_type": "markdown",
      "source": [
        "<a id='1.4'></a>\n",
        "### Load & View Random Sample Image"
      ],
      "metadata": {
        "papermill": {
          "duration": 0.019215,
          "end_time": "2023-02-21T13:55:06.949372",
          "exception": false,
          "start_time": "2023-02-21T13:55:06.930157",
          "status": "completed"
        },
        "tags": [],
        "id": "eSRLOOn2Sh68"
      }
    },
    {
      "cell_type": "code",
      "source": [
        "def _load(image_path):\n",
        "    # Read and decode an image file to a uint8 tensor\n",
        "    image = tf.io.read_file(image_path)\n",
        "    image = tf.io.decode_jpeg(image, channels=3)\n",
        "\n",
        "    # Resize image\n",
        "    image = tf.image.resize(image, [CFG.HEIGHT, CFG.WIDTH],\n",
        "                            method=tf.image.ResizeMethod.LANCZOS3)\n",
        "\n",
        "    # Convert image dtype to float32 and NORMALIZE!!!\n",
        "    image = tf.cast(image, tf.float32)/255.\n",
        "\n",
        "    # Return image\n",
        "    return image\n",
        "\n",
        "def view_sample(image, label, color_map='gray', fig_size=(8, 10)):\n",
        "    plt.figure(figsize=fig_size)\n",
        "    plt.imshow(tf.image.rgb_to_grayscale(image), cmap=color_map)\n",
        "    plt.title(f'Label: {label}', fontsize=16)\n",
        "    return"
      ],
      "metadata": {
        "papermill": {
          "duration": 0.030079,
          "end_time": "2023-02-21T13:55:06.999467",
          "exception": false,
          "start_time": "2023-02-21T13:55:06.969388",
          "status": "completed"
        },
        "tags": [],
        "id": "P3vlDI0JSh69",
        "execution": {
          "iopub.status.busy": "2023-11-16T08:07:27.476632Z",
          "iopub.execute_input": "2023-11-16T08:07:27.476974Z",
          "iopub.status.idle": "2023-11-16T08:07:27.490487Z",
          "shell.execute_reply.started": "2023-11-16T08:07:27.476943Z",
          "shell.execute_reply": "2023-11-16T08:07:27.489513Z"
        },
        "trusted": true
      },
      "execution_count": null,
      "outputs": []
    },
    {
      "cell_type": "code",
      "source": [
        "# Select random sample from train_df\n",
        "idx = random.sample(dataset_df.index.to_list(), 1)[0]\n",
        "\n",
        "# Load the random sample and label\n",
        "sample_image, sample_label = _load(dataset_df.image_path[idx]), dataset_df.label[idx]\n",
        "\n",
        "# View the random sample\n",
        "view_sample(sample_image, sample_label, color_map='inferno')"
      ],
      "metadata": {
        "papermill": {
          "duration": 3.121968,
          "end_time": "2023-02-21T13:55:10.141841",
          "exception": false,
          "start_time": "2023-02-21T13:55:07.019873",
          "status": "completed"
        },
        "tags": [],
        "id": "lqp6hnIDSh6-",
        "execution": {
          "iopub.status.busy": "2023-11-16T08:07:27.491692Z",
          "iopub.execute_input": "2023-11-16T08:07:27.492039Z",
          "iopub.status.idle": "2023-11-16T08:07:29.813019Z",
          "shell.execute_reply.started": "2023-11-16T08:07:27.491994Z",
          "shell.execute_reply": "2023-11-16T08:07:29.811896Z"
        },
        "trusted": true
      },
      "execution_count": null,
      "outputs": []
    },
    {
      "cell_type": "markdown",
      "source": [
        "<a id=1.5></a>\n",
        "### View Multiple Randomly Selected Samples"
      ],
      "metadata": {
        "id": "WaBjnuf1Sh6_"
      }
    },
    {
      "cell_type": "code",
      "source": [
        "def view_mulitiple_samples(df, sample_loader, count=10, color_map='gray', fig_size=(14, 10)):\n",
        "    rows = count//5\n",
        "    if count%5 > 0:\n",
        "        rows +=1\n",
        "\n",
        "    idx = random.sample(df.index.to_list(), count)\n",
        "    fig = plt.figure(figsize=fig_size)\n",
        "\n",
        "    for column, _ in enumerate(idx):\n",
        "        plt.subplot(rows, 5, column+1)\n",
        "        plt.title(f'Label: {df.label[_]}')\n",
        "        plt.imshow(tf.image.rgb_to_grayscale(sample_loader(df.image_path[_])), cmap=color_map);\n",
        "\n",
        "    return\n",
        "\n",
        "view_mulitiple_samples(dataset_df, _load,\n",
        "                       count=30, color_map='jet',\n",
        "                       fig_size=(20, 24))"
      ],
      "metadata": {
        "id": "mg5qBG78Sh7A",
        "execution": {
          "iopub.status.busy": "2023-11-16T08:07:29.818203Z",
          "iopub.execute_input": "2023-11-16T08:07:29.818542Z",
          "iopub.status.idle": "2023-11-16T08:07:35.373055Z",
          "shell.execute_reply.started": "2023-11-16T08:07:29.81851Z",
          "shell.execute_reply": "2023-11-16T08:07:35.371654Z"
        },
        "trusted": true
      },
      "execution_count": null,
      "outputs": []
    },
    {
      "cell_type": "markdown",
      "source": [
        "<a id='1.6'></a>\n",
        "### View Train Labels Distribution"
      ],
      "metadata": {
        "papermill": {
          "duration": 0.024723,
          "end_time": "2023-02-21T13:55:10.192792",
          "exception": false,
          "start_time": "2023-02-21T13:55:10.168069",
          "status": "completed"
        },
        "tags": [],
        "id": "Yc3k9xclSh7B"
      }
    },
    {
      "cell_type": "code",
      "source": [
        "# Generate Figure\n",
        "fig = plt.figure(figsize=(14, 10))\n",
        "\n",
        "# Plot Labels Distribution\n",
        "plt.title('Dataset Labels Distribution', fontsize=20)\n",
        "distribution = dataset_df['label'].value_counts().sort_values()\n",
        "sns.barplot(x=distribution.values,\n",
        "            y=list(distribution.keys()),\n",
        "            orient=\"h\");"
      ],
      "metadata": {
        "papermill": {
          "duration": 0.375649,
          "end_time": "2023-02-21T13:55:10.592838",
          "exception": false,
          "start_time": "2023-02-21T13:55:10.217189",
          "status": "completed"
        },
        "tags": [],
        "id": "hnOicXrgSh7B",
        "execution": {
          "iopub.status.busy": "2023-11-16T08:07:35.374745Z",
          "iopub.execute_input": "2023-11-16T08:07:35.375119Z",
          "iopub.status.idle": "2023-11-16T08:07:35.637519Z",
          "shell.execute_reply.started": "2023-11-16T08:07:35.375082Z",
          "shell.execute_reply": "2023-11-16T08:07:35.636506Z"
        },
        "trusted": true
      },
      "execution_count": null,
      "outputs": []
    },
    {
      "cell_type": "markdown",
      "source": [
        "<a id=1.7></a>\n",
        "### Discard Insufficient Sample Classes"
      ],
      "metadata": {
        "id": "CD5tYROgSh7D"
      }
    },
    {
      "cell_type": "code",
      "source": [
        "# # Get insufficient labels\n",
        "# insufficient_labels = list(distribution[distribution.values < 10].keys())\n",
        "\n",
        "# # Get insufficient labels indices from df\n",
        "# insufficient_indices = pd.concat([dataset_df[dataset_df.label == _] for _ in insufficient_labels]).index\n",
        "\n",
        "# # Remove insufficient labels\n",
        "# dataset_df = dataset_df.drop(insufficient_indices).reset_index(drop=True)\n",
        "\n",
        "# Get insufficient labels\n",
        "insufficient_labels = list(distribution[distribution.values < 10].keys())\n",
        "\n",
        "# Get insufficient labels indices from df only if there are any insufficient labels\n",
        "if insufficient_labels:\n",
        "    insufficient_indices = pd.concat([dataset_df[dataset_df.label == _] for _ in insufficient_labels]).index\n",
        "\n",
        "    # Remove insufficient labels\n",
        "    dataset_df = dataset_df.drop(insufficient_indices).reset_index(drop=True)\n"
      ],
      "metadata": {
        "id": "RfgWyiL-Sh7D",
        "execution": {
          "iopub.status.busy": "2023-11-16T08:07:35.639094Z",
          "iopub.execute_input": "2023-11-16T08:07:35.639517Z",
          "iopub.status.idle": "2023-11-16T08:07:35.647027Z",
          "shell.execute_reply.started": "2023-11-16T08:07:35.63947Z",
          "shell.execute_reply": "2023-11-16T08:07:35.645987Z"
        },
        "trusted": true
      },
      "execution_count": null,
      "outputs": []
    },
    {
      "cell_type": "code",
      "source": [
        "dataset_df['label'].value_counts().sort_values()"
      ],
      "metadata": {
        "id": "ItohEXTUSh7E",
        "execution": {
          "iopub.status.busy": "2023-11-16T08:07:35.648695Z",
          "iopub.execute_input": "2023-11-16T08:07:35.649076Z",
          "iopub.status.idle": "2023-11-16T08:07:35.662695Z",
          "shell.execute_reply.started": "2023-11-16T08:07:35.649037Z",
          "shell.execute_reply": "2023-11-16T08:07:35.661677Z"
        },
        "trusted": true
      },
      "execution_count": null,
      "outputs": []
    },
    {
      "cell_type": "markdown",
      "source": [
        "### Re-label the encoded classes"
      ],
      "metadata": {
        "id": "q2AQUPigSh7F"
      }
    },
    {
      "cell_type": "code",
      "source": [
        "# Generate Label Encoder\n",
        "label_encoder = LabelEncoder()\n",
        "\n",
        "# Label Encode the Image Labels\n",
        "dataset_df['label_encoded'] = label_encoder.fit_transform(dataset_df.label)\n",
        "\n",
        "# View first 10 samples\n",
        "dataset_df.head(10)"
      ],
      "metadata": {
        "id": "JmWn9hPmSh7G",
        "execution": {
          "iopub.status.busy": "2023-11-16T08:07:35.66406Z",
          "iopub.execute_input": "2023-11-16T08:07:35.664689Z",
          "iopub.status.idle": "2023-11-16T08:07:35.682577Z",
          "shell.execute_reply.started": "2023-11-16T08:07:35.664657Z",
          "shell.execute_reply": "2023-11-16T08:07:35.681595Z"
        },
        "trusted": true
      },
      "execution_count": null,
      "outputs": []
    },
    {
      "cell_type": "code",
      "source": [
        "# Get class names and number of classes from label_encoder\n",
        "num_classes = len(label_encoder.classes_)\n",
        "class_names = label_encoder.classes_\n",
        "\n",
        "print(f'Number of classes: {num_classes}')\n",
        "print(f'Classes: {class_names}')"
      ],
      "metadata": {
        "id": "sxrY0669Sh7G",
        "execution": {
          "iopub.status.busy": "2023-11-16T08:07:35.683994Z",
          "iopub.execute_input": "2023-11-16T08:07:35.684607Z",
          "iopub.status.idle": "2023-11-16T08:07:35.693173Z",
          "shell.execute_reply.started": "2023-11-16T08:07:35.684561Z",
          "shell.execute_reply": "2023-11-16T08:07:35.692183Z"
        },
        "trusted": true
      },
      "execution_count": null,
      "outputs": []
    },
    {
      "cell_type": "markdown",
      "source": [
        "<a id='2.1'></a>\n",
        "### Create Train & Test Splits"
      ],
      "metadata": {
        "papermill": {
          "duration": 0.099175,
          "end_time": "2023-02-21T13:55:10.899583",
          "exception": false,
          "start_time": "2023-02-21T13:55:10.800408",
          "status": "completed"
        },
        "tags": [],
        "id": "snmSswMiSh7H"
      }
    },
    {
      "cell_type": "code",
      "source": [
        "# Create Train/Test split with Training Set\n",
        "train_split_idx, val_test_split_idx, _, _ = train_test_split(dataset_df.index,\n",
        "                                                        dataset_df.label_encoded,\n",
        "                                                        test_size=0.4,\n",
        "                                                        stratify=dataset_df.label_encoded,\n",
        "                                                        random_state=CFG.SEED)"
      ],
      "metadata": {
        "papermill": {
          "duration": 0.077682,
          "end_time": "2023-02-21T13:55:11.066788",
          "exception": false,
          "start_time": "2023-02-21T13:55:10.989106",
          "status": "completed"
        },
        "tags": [],
        "id": "l6jAOdoQSh7I",
        "execution": {
          "iopub.status.busy": "2023-11-16T08:07:35.694314Z",
          "iopub.execute_input": "2023-11-16T08:07:35.694641Z",
          "iopub.status.idle": "2023-11-16T08:07:35.708779Z",
          "shell.execute_reply.started": "2023-11-16T08:07:35.694612Z",
          "shell.execute_reply": "2023-11-16T08:07:35.707734Z"
        },
        "trusted": true
      },
      "execution_count": null,
      "outputs": []
    },
    {
      "cell_type": "code",
      "source": [
        "# Get training and validation data\n",
        "train_df = dataset_df.iloc[train_split_idx].reset_index(drop=True)\n",
        "val_test_df = dataset_df.iloc[val_test_split_idx].reset_index(drop=True)\n",
        "\n",
        "# View shapes\n",
        "train_df.shape, val_test_df.shape"
      ],
      "metadata": {
        "papermill": {
          "duration": 0.106041,
          "end_time": "2023-02-21T13:55:11.25286",
          "exception": false,
          "start_time": "2023-02-21T13:55:11.146819",
          "status": "completed"
        },
        "tags": [],
        "id": "b4Re6tZaSh7I",
        "execution": {
          "iopub.status.busy": "2023-11-16T08:07:35.710302Z",
          "iopub.execute_input": "2023-11-16T08:07:35.710689Z",
          "iopub.status.idle": "2023-11-16T08:07:35.723645Z",
          "shell.execute_reply.started": "2023-11-16T08:07:35.71066Z",
          "shell.execute_reply": "2023-11-16T08:07:35.722606Z"
        },
        "trusted": true
      },
      "execution_count": null,
      "outputs": []
    },
    {
      "cell_type": "markdown",
      "source": [
        "### Create Validation & Test Splits"
      ],
      "metadata": {
        "id": "n5qCFwsmSh7I"
      }
    },
    {
      "cell_type": "code",
      "source": [
        "# Create Train/Test split with Training Set\n",
        "val_split_idx, test_split_idx, _, _ = train_test_split(val_test_df.index,\n",
        "                                                       val_test_df.label_encoded,\n",
        "                                                       test_size=0.6,\n",
        "                                                       stratify=val_test_df.label_encoded,\n",
        "                                                       random_state=CFG.SEED)"
      ],
      "metadata": {
        "id": "qlGXuQwhSh7J",
        "execution": {
          "iopub.status.busy": "2023-11-16T08:07:35.724816Z",
          "iopub.execute_input": "2023-11-16T08:07:35.725148Z",
          "iopub.status.idle": "2023-11-16T08:07:35.735055Z",
          "shell.execute_reply.started": "2023-11-16T08:07:35.72512Z",
          "shell.execute_reply": "2023-11-16T08:07:35.733902Z"
        },
        "trusted": true
      },
      "execution_count": null,
      "outputs": []
    },
    {
      "cell_type": "code",
      "source": [
        "# Get validation and test data\n",
        "val_df = dataset_df.iloc[val_split_idx].reset_index(drop=True)\n",
        "test_df = dataset_df.iloc[test_split_idx].reset_index(drop=True)\n",
        "\n",
        "# View shapes\n",
        "val_df.shape, test_df.shape"
      ],
      "metadata": {
        "id": "L2FMLlWESh7J",
        "execution": {
          "iopub.status.busy": "2023-11-16T08:07:35.736626Z",
          "iopub.execute_input": "2023-11-16T08:07:35.737909Z",
          "iopub.status.idle": "2023-11-16T08:07:35.747475Z",
          "shell.execute_reply.started": "2023-11-16T08:07:35.737867Z",
          "shell.execute_reply": "2023-11-16T08:07:35.746526Z"
        },
        "trusted": true
      },
      "execution_count": null,
      "outputs": []
    },
    {
      "cell_type": "code",
      "source": [
        "train_size = len(train_df)\n",
        "val_size = len(val_df)\n",
        "test_size = len(test_df)\n",
        "total = train_size + val_size + test_size\n",
        "\n",
        "# View the counts\n",
        "print(f'train samples count:\\t\\t{train_size}')\n",
        "print(f'validation samples count:\\t{val_size}')\n",
        "print(f'test samples count:\\t\\t{test_size}')\n",
        "print('=======================================')\n",
        "print(f'TOTAL:\\t\\t\\t\\t{total}')"
      ],
      "metadata": {
        "id": "38nhJI9pSh7J",
        "execution": {
          "iopub.status.busy": "2023-11-16T08:07:35.748741Z",
          "iopub.execute_input": "2023-11-16T08:07:35.749133Z",
          "iopub.status.idle": "2023-11-16T08:07:35.756884Z",
          "shell.execute_reply.started": "2023-11-16T08:07:35.749093Z",
          "shell.execute_reply": "2023-11-16T08:07:35.755857Z"
        },
        "trusted": true
      },
      "execution_count": null,
      "outputs": []
    },
    {
      "cell_type": "markdown",
      "source": [
        "<a id='2.2'></a>\n",
        "### View New Train & Validation Labels Distribution"
      ],
      "metadata": {
        "papermill": {
          "duration": 0.03667,
          "end_time": "2023-02-21T13:55:11.343179",
          "exception": false,
          "start_time": "2023-02-21T13:55:11.306509",
          "status": "completed"
        },
        "tags": [],
        "id": "U1sMx_rKSh7L"
      }
    },
    {
      "cell_type": "code",
      "source": [
        "fig, (ax1, ax2, ax3) = plt.subplots(3, figsize=(16, 24))\n",
        "\n",
        "# Set the spacing between subplots\n",
        "fig.tight_layout(pad=6.0)\n",
        "\n",
        "# Plot Train Labels Distribution\n",
        "ax1.set_title('Train Labels Distribution', fontsize=20)\n",
        "train_distribution = train_df['label'].value_counts().sort_values()\n",
        "sns.barplot(x=train_distribution.values,\n",
        "            y=list(train_distribution.keys()),\n",
        "            orient=\"h\",\n",
        "            ax=ax1);\n",
        "\n",
        "# Plot Validation Labels Distribution\n",
        "ax2.set_title('Validation Labels Distribution', fontsize=20)\n",
        "val_distribution = val_df['label'].value_counts().sort_values()\n",
        "sns.barplot(x=val_distribution.values,\n",
        "            y=list(val_distribution.keys()),\n",
        "            orient=\"h\",\n",
        "            ax=ax2);\n",
        "\n",
        "# Plot Test Labels Distribution\n",
        "ax3.set_title('Test Labels Distribution', fontsize=20)\n",
        "test_distribution = test_df['label'].value_counts().sort_values()\n",
        "sns.barplot(x=test_distribution.values,\n",
        "            y=list(test_distribution.keys()),\n",
        "            orient=\"h\",\n",
        "            ax=ax3);"
      ],
      "metadata": {
        "papermill": {
          "duration": 0.441422,
          "end_time": "2023-02-21T13:55:11.823758",
          "exception": false,
          "start_time": "2023-02-21T13:55:11.382336",
          "status": "completed"
        },
        "tags": [],
        "id": "6tP7GmafSh7M",
        "execution": {
          "iopub.status.busy": "2023-11-16T08:07:35.758194Z",
          "iopub.execute_input": "2023-11-16T08:07:35.758551Z",
          "iopub.status.idle": "2023-11-16T08:07:36.436643Z",
          "shell.execute_reply.started": "2023-11-16T08:07:35.758497Z",
          "shell.execute_reply": "2023-11-16T08:07:36.435642Z"
        },
        "trusted": true
      },
      "execution_count": null,
      "outputs": []
    },
    {
      "cell_type": "markdown",
      "source": [
        "<a id='2.3'></a>\n",
        "### Create an Image Data Augmentation Layer"
      ],
      "metadata": {
        "papermill": {
          "duration": 0.042069,
          "end_time": "2023-02-21T13:55:11.909814",
          "exception": false,
          "start_time": "2023-02-21T13:55:11.867745",
          "status": "completed"
        },
        "tags": [],
        "id": "2HMvHQfJSh7M"
      }
    },
    {
      "cell_type": "code",
      "source": [
        "# Build augmentation layer\n",
        "augmentation_layer = Sequential([\n",
        "    layers.RandomFlip(mode='horizontal_and_vertical', seed=CFG.TF_SEED),\n",
        "    layers.RandomZoom(height_factor=(-0.1, 0.1), width_factor=(-0.1, 0.1), seed=CFG.TF_SEED),\n",
        "], name='augmentation_layer')"
      ],
      "metadata": {
        "papermill": {
          "duration": 0.101283,
          "end_time": "2023-02-21T13:55:12.050418",
          "exception": false,
          "start_time": "2023-02-21T13:55:11.949135",
          "status": "completed"
        },
        "tags": [],
        "id": "0caEKJs3Sh7M",
        "execution": {
          "iopub.status.busy": "2023-11-16T08:07:36.438104Z",
          "iopub.execute_input": "2023-11-16T08:07:36.438452Z",
          "iopub.status.idle": "2023-11-16T08:07:36.457926Z",
          "shell.execute_reply.started": "2023-11-16T08:07:36.438418Z",
          "shell.execute_reply": "2023-11-16T08:07:36.456871Z"
        },
        "trusted": true
      },
      "execution_count": null,
      "outputs": []
    },
    {
      "cell_type": "code",
      "source": [
        "fig, (ax1, ax2) = plt.subplots(1, 2, figsize=(14, 10))\n",
        "\n",
        "# Set the spacing between subplots\n",
        "fig.tight_layout(pad=6.0)\n",
        "\n",
        "# View Original Image\n",
        "ax1.set_title('Original Image', fontsize=20)\n",
        "ax1.imshow(tf.image.rgb_to_grayscale(sample_image), cmap='inferno');\n",
        "\n",
        "# View Augmented Image\n",
        "ax2.set_title('Augmented Image', fontsize=20)\n",
        "ax2.imshow(tf.image.rgb_to_grayscale(augmentation_layer(sample_image)), cmap='inferno');"
      ],
      "metadata": {
        "papermill": {
          "duration": 0.84278,
          "end_time": "2023-02-21T13:55:12.933758",
          "exception": false,
          "start_time": "2023-02-21T13:55:12.090978",
          "status": "completed"
        },
        "tags": [],
        "id": "GAfBjrgjSh7N",
        "execution": {
          "iopub.status.busy": "2023-11-16T08:07:36.459152Z",
          "iopub.execute_input": "2023-11-16T08:07:36.459443Z",
          "iopub.status.idle": "2023-11-16T08:07:37.576853Z",
          "shell.execute_reply.started": "2023-11-16T08:07:36.459414Z",
          "shell.execute_reply": "2023-11-16T08:07:37.575803Z"
        },
        "trusted": true
      },
      "execution_count": null,
      "outputs": []
    },
    {
      "cell_type": "markdown",
      "source": [
        "<a id='2.4'></a>\n",
        "### Create Input Data Pipeline w. tf.data API"
      ],
      "metadata": {
        "papermill": {
          "duration": 0.03247,
          "end_time": "2023-02-21T13:55:13.061389",
          "exception": false,
          "start_time": "2023-02-21T13:55:13.028919",
          "status": "completed"
        },
        "tags": [],
        "id": "LnnjpVsFSh7O"
      }
    },
    {
      "cell_type": "code",
      "source": [
        "def encode_labels(labels, encode_depth=24):\n",
        "    return tf.one_hot(labels, depth=encode_depth).numpy()\n",
        "\n",
        "def create_pipeline(df, load_function, augment=False, batch_size=32, shuffle=False, cache=None, prefetch=False):\n",
        "    '''\n",
        "    Generates an input pipeline using the tf.data API given a Pandas DataFrame and image loading function.\n",
        "\n",
        "    @params\n",
        "        - df: (pd.DataFrame) -> DataFrame containing paths and labels\n",
        "        - load_function: (function) -> function used to load images given their paths\n",
        "        - augment: (bool) -> condition for applying augmentation\n",
        "        - batch_size: (int) -> size for batched (default=32)\n",
        "        - shuffle: (bool) -> condition for data shuffling, data is shuffled when True (default=False)\n",
        "        - cache: (str) -> cache path for caching data, data is not cached when None (default=None)\n",
        "        - prefetch: (bool) -> condition for prefeching data, data is prefetched when True (default=False)\n",
        "\n",
        "    @returns\n",
        "        - dataset: (tf.data.Dataset) -> dataset input pipeline used to train a TensorFlow model\n",
        "    '''\n",
        "    # Get image paths and labels from DataFrame\n",
        "    image_paths = df.image_path\n",
        "    image_labels = encode_labels(df.label_encoded)\n",
        "    AUTOTUNE = tf.data.AUTOTUNE\n",
        "\n",
        "    # Create dataset with raw data from DataFrame\n",
        "    ds = tf.data.Dataset.from_tensor_slices((image_paths, image_labels))\n",
        "\n",
        "    # Map augmentation layer and load function to dataset inputs if augment is True\n",
        "    # Else map only the load function\n",
        "    if augment:\n",
        "        ds = ds.map(lambda x, y: (augmentation_layer(load_function(x)), y), num_parallel_calls=AUTOTUNE)\n",
        "    else:\n",
        "        ds = ds.map(lambda x, y: (load_function(x), y), num_parallel_calls=AUTOTUNE)\n",
        "\n",
        "    # Apply shuffling based on condition\n",
        "    if shuffle:\n",
        "        ds = ds.shuffle(buffer_size=1000)\n",
        "\n",
        "    # Apply batching\n",
        "    ds = ds.batch(batch_size)\n",
        "\n",
        "    # Apply caching based on condition\n",
        "    # Note: Use cache in memory (cache='') if the data is small enough to fit in memory!!!\n",
        "    if cache != None:\n",
        "        ds = ds.cache(cache)\n",
        "\n",
        "    # Apply prefetching based on condition\n",
        "    # Note: This will result in memory trade-offs\n",
        "    if prefetch:\n",
        "        ds = ds.prefetch(buffer_size=AUTOTUNE)\n",
        "\n",
        "    # Return the dataset\n",
        "    return ds"
      ],
      "metadata": {
        "papermill": {
          "duration": 0.045488,
          "end_time": "2023-02-21T13:55:13.139103",
          "exception": false,
          "start_time": "2023-02-21T13:55:13.093615",
          "status": "completed"
        },
        "tags": [],
        "id": "e1uTS7RbSh7O",
        "execution": {
          "iopub.status.busy": "2023-11-16T08:07:37.578318Z",
          "iopub.execute_input": "2023-11-16T08:07:37.578692Z",
          "iopub.status.idle": "2023-11-16T08:07:37.593535Z",
          "shell.execute_reply.started": "2023-11-16T08:07:37.578654Z",
          "shell.execute_reply": "2023-11-16T08:07:37.592529Z"
        },
        "trusted": true
      },
      "execution_count": null,
      "outputs": []
    },
    {
      "cell_type": "code",
      "source": [
        "# Generate Train Input Pipeline\n",
        "train_ds = create_pipeline(train_df, _load, augment=True,\n",
        "                           batch_size=CFG.BATCH_SIZE,\n",
        "                           shuffle=False, prefetch=True)\n",
        "\n",
        "# Generate Validation Input Pipeline\n",
        "val_ds = create_pipeline(val_df, _load,\n",
        "                         batch_size=CFG.BATCH_SIZE,\n",
        "                         shuffle=False, prefetch=False)\n",
        "\n",
        "# Generate Test Input Pipeline\n",
        "test_ds = create_pipeline(test_df, _load,\n",
        "                          batch_size=CFG.BATCH_SIZE,\n",
        "                          shuffle=False, prefetch=False)"
      ],
      "metadata": {
        "papermill": {
          "duration": 0.294265,
          "end_time": "2023-02-21T13:55:13.466252",
          "exception": false,
          "start_time": "2023-02-21T13:55:13.171987",
          "status": "completed"
        },
        "tags": [],
        "id": "F3ZRoasjSh7P",
        "execution": {
          "iopub.status.busy": "2023-11-16T08:07:37.594993Z",
          "iopub.execute_input": "2023-11-16T08:07:37.595627Z",
          "iopub.status.idle": "2023-11-16T08:07:37.884763Z",
          "shell.execute_reply.started": "2023-11-16T08:07:37.595592Z",
          "shell.execute_reply": "2023-11-16T08:07:37.883877Z"
        },
        "trusted": true
      },
      "execution_count": null,
      "outputs": []
    },
    {
      "cell_type": "code",
      "source": [
        "# View string representation of datasets\n",
        "print('========================================')\n",
        "print('Train Input Data Pipeline:\\n\\n', train_ds)\n",
        "print('========================================')\n",
        "print('Validation Input Data Pipeline:\\n\\n', val_ds)\n",
        "print('========================================')\n",
        "print('Test Input Data Pipeline:\\n\\n', test_ds)\n",
        "print('========================================')"
      ],
      "metadata": {
        "papermill": {
          "duration": 0.043595,
          "end_time": "2023-02-21T13:55:13.542661",
          "exception": false,
          "start_time": "2023-02-21T13:55:13.499066",
          "status": "completed"
        },
        "tags": [],
        "id": "sTmgDWn0Sh7P",
        "execution": {
          "iopub.status.busy": "2023-11-16T08:07:37.886265Z",
          "iopub.execute_input": "2023-11-16T08:07:37.886751Z",
          "iopub.status.idle": "2023-11-16T08:07:37.893887Z",
          "shell.execute_reply.started": "2023-11-16T08:07:37.886689Z",
          "shell.execute_reply": "2023-11-16T08:07:37.892761Z"
        },
        "trusted": true
      },
      "execution_count": null,
      "outputs": []
    },
    {
      "cell_type": "code",
      "source": [
        "# Here's a function to get any model/preprocessor from tensorflow hub\n",
        "def get_tfhub_model(model_link, model_name, model_trainable=False):\n",
        "    return hub.KerasLayer(model_link,\n",
        "                          trainable=model_trainable,\n",
        "                          name=model_name)"
      ],
      "metadata": {
        "papermill": {
          "duration": 0.081996,
          "end_time": "2023-02-21T13:58:30.40323",
          "exception": false,
          "start_time": "2023-02-21T13:58:30.321234",
          "status": "completed"
        },
        "tags": [],
        "id": "Jv-WUw13Sh7R",
        "execution": {
          "iopub.status.busy": "2023-11-16T08:07:37.895171Z",
          "iopub.execute_input": "2023-11-16T08:07:37.895463Z",
          "iopub.status.idle": "2023-11-16T08:07:37.904609Z",
          "shell.execute_reply.started": "2023-11-16T08:07:37.895433Z",
          "shell.execute_reply": "2023-11-16T08:07:37.903745Z"
        },
        "trusted": true
      },
      "execution_count": null,
      "outputs": []
    },
    {
      "cell_type": "markdown",
      "source": [
        "<a id=\"3.1\"></a>\n",
        "### Get EfficientNet From TensorFlow Hub"
      ],
      "metadata": {
        "papermill": {
          "duration": 0.074258,
          "end_time": "2023-02-21T13:58:30.552743",
          "exception": false,
          "start_time": "2023-02-21T13:58:30.478485",
          "status": "completed"
        },
        "tags": [],
        "id": "2HVVqDa8Sh7R"
      }
    },
    {
      "cell_type": "code",
      "source": [
        "# Get EfficientNet V2 B0 here\n",
        "efficientnet_v2_url = 'https://tfhub.dev/google/imagenet/efficientnet_v2_imagenet21k_b0/feature_vector/2'\n",
        "model_name = 'efficientnet_v2_b0'\n",
        "\n",
        "# Set trainable to False for inference-only\n",
        "set_trainable=False\n",
        "\n",
        "efficientnet_v2_b0 = get_tfhub_model(efficientnet_v2_url,\n",
        "                                     model_name,\n",
        "                                     model_trainable=set_trainable)"
      ],
      "metadata": {
        "papermill": {
          "duration": 8.665099,
          "end_time": "2023-02-21T13:58:39.290679",
          "exception": false,
          "start_time": "2023-02-21T13:58:30.62558",
          "status": "completed"
        },
        "tags": [],
        "id": "XHhBAX5LSh7R",
        "execution": {
          "iopub.status.busy": "2023-11-16T08:07:37.905926Z",
          "iopub.execute_input": "2023-11-16T08:07:37.906903Z",
          "iopub.status.idle": "2023-11-16T08:07:43.809061Z",
          "shell.execute_reply.started": "2023-11-16T08:07:37.906859Z",
          "shell.execute_reply": "2023-11-16T08:07:43.808198Z"
        },
        "trusted": true
      },
      "execution_count": null,
      "outputs": []
    },
    {
      "cell_type": "markdown",
      "source": [
        "<a id=\"3.2\"></a>\n",
        "### Define EfficientNet Model"
      ],
      "metadata": {
        "papermill": {
          "duration": 0.074452,
          "end_time": "2023-02-21T13:58:39.441331",
          "exception": false,
          "start_time": "2023-02-21T13:58:39.366879",
          "status": "completed"
        },
        "tags": [],
        "id": "gRLD3Xz0Sh7S"
      }
    },
    {
      "cell_type": "code",
      "source": [
        "def efficientnet_v2_model():\n",
        "\n",
        "    initializer = tf.keras.initializers.GlorotNormal(seed=CFG.SEED)\n",
        "\n",
        "    efficientnet_v2_sequential = Sequential([\n",
        "        layers.Input(shape=CFG.IMAGE_SIZE, dtype=tf.float32, name='input_image'),\n",
        "        efficientnet_v2_b0,\n",
        "        layers.Dropout(0.2),\n",
        "        layers.Dense(512, activation='relu', kernel_initializer=initializer),\n",
        "        layers.Dense(256, activation='relu', kernel_initializer=initializer),\n",
        "        layers.Dense(24, dtype=tf.float32, activation='softmax', kernel_initializer=initializer)\n",
        "    ], name='efficientnet_v2_sequential_model')\n",
        "\n",
        "    return efficientnet_v2_sequential"
      ],
      "metadata": {
        "papermill": {
          "duration": 0.085997,
          "end_time": "2023-02-21T13:58:39.654247",
          "exception": false,
          "start_time": "2023-02-21T13:58:39.56825",
          "status": "completed"
        },
        "tags": [],
        "id": "idm_N8URSh7S",
        "execution": {
          "iopub.status.busy": "2023-11-16T08:07:43.810243Z",
          "iopub.execute_input": "2023-11-16T08:07:43.810521Z",
          "iopub.status.idle": "2023-11-16T08:07:43.817889Z",
          "shell.execute_reply.started": "2023-11-16T08:07:43.810493Z",
          "shell.execute_reply": "2023-11-16T08:07:43.816903Z"
        },
        "trusted": true
      },
      "execution_count": null,
      "outputs": []
    },
    {
      "cell_type": "code",
      "source": [
        "# Generate Model\n",
        "model_efficientnet_v2 = efficientnet_v2_model()\n",
        "\n",
        "# Generate Summary of the Model\n",
        "model_efficientnet_v2.summary()"
      ],
      "metadata": {
        "papermill": {
          "duration": 0.804712,
          "end_time": "2023-02-21T13:58:40.543807",
          "exception": false,
          "start_time": "2023-02-21T13:58:39.739095",
          "status": "completed"
        },
        "tags": [],
        "id": "XxRI0VN6Sh7T",
        "execution": {
          "iopub.status.busy": "2023-11-16T08:07:43.819269Z",
          "iopub.execute_input": "2023-11-16T08:07:43.819606Z",
          "iopub.status.idle": "2023-11-16T08:07:44.779248Z",
          "shell.execute_reply.started": "2023-11-16T08:07:43.819576Z",
          "shell.execute_reply": "2023-11-16T08:07:44.77815Z"
        },
        "trusted": true
      },
      "execution_count": null,
      "outputs": []
    },
    {
      "cell_type": "code",
      "source": [
        "# Explore model visually\n",
        "plot_model(\n",
        "    model_efficientnet_v2, dpi=60,\n",
        "    show_shapes=True\n",
        ")"
      ],
      "metadata": {
        "papermill": {
          "duration": 0.234437,
          "end_time": "2023-02-21T13:58:40.852725",
          "exception": false,
          "start_time": "2023-02-21T13:58:40.618288",
          "status": "completed"
        },
        "tags": [],
        "id": "qJaa6DMFSh7T",
        "execution": {
          "iopub.status.busy": "2023-11-16T08:07:44.78062Z",
          "iopub.execute_input": "2023-11-16T08:07:44.780973Z",
          "iopub.status.idle": "2023-11-16T08:07:44.950134Z",
          "shell.execute_reply.started": "2023-11-16T08:07:44.780939Z",
          "shell.execute_reply": "2023-11-16T08:07:44.948698Z"
        },
        "trusted": true
      },
      "execution_count": null,
      "outputs": []
    },
    {
      "cell_type": "code",
      "source": [
        "def train_model(model, num_epochs, callbacks_list, tf_train_data,\n",
        "                tf_valid_data=None, shuffling=False):\n",
        "    '''\n",
        "        Trains a TensorFlow model and returns a dict object containing the model metrics history data.\n",
        "\n",
        "        @params\n",
        "        - model: (tf.keras.model) -> model to be trained\n",
        "        - num_epochs: (int) -> number of epochs to train the model\n",
        "        - callbacks_list: (list) -> list containing callback fuctions for model\n",
        "        - tf_train_data: (tf.data.Dataset) -> dataset for model to be train on\n",
        "        - tf_valid_data: (tf.data.Dataset) -> dataset for model to be validated on (default=None)\n",
        "        - shuffling: (bool) -> condition for data shuffling, data is shuffled when True (default=False)\n",
        "\n",
        "        @returns\n",
        "        - model_history: (dict) -> dictionary containing loss and metrics values tracked during training\n",
        "    '''\n",
        "\n",
        "    model_history = {}\n",
        "\n",
        "    if tf_valid_data != None:\n",
        "        model_history = model.fit(tf_train_data,\n",
        "                                  epochs=num_epochs,\n",
        "                                  validation_data=tf_valid_data,\n",
        "                                  validation_steps=int(len(tf_valid_data)),\n",
        "                                  callbacks=callbacks_list,\n",
        "                                  shuffle=shuffling)\n",
        "\n",
        "    if tf_valid_data == None:\n",
        "        model_history = model.fit(tf_train_data,\n",
        "                                  epochs=num_epochs,\n",
        "                                  callbacks=callbacks_list,\n",
        "                                  shuffle=shuffling)\n",
        "    return model_history"
      ],
      "metadata": {
        "papermill": {
          "duration": 0.044306,
          "end_time": "2023-02-21T13:55:14.975522",
          "exception": false,
          "start_time": "2023-02-21T13:55:14.931216",
          "status": "completed"
        },
        "tags": [],
        "id": "D7Y-u_3zSh7U",
        "execution": {
          "iopub.status.busy": "2023-11-16T08:07:44.952255Z",
          "iopub.execute_input": "2023-11-16T08:07:44.953223Z",
          "iopub.status.idle": "2023-11-16T08:07:44.96135Z",
          "shell.execute_reply.started": "2023-11-16T08:07:44.953185Z",
          "shell.execute_reply": "2023-11-16T08:07:44.960307Z"
        },
        "trusted": true
      },
      "execution_count": null,
      "outputs": []
    },
    {
      "cell_type": "code",
      "source": [
        "# Define Early Stopping Callback\n",
        "early_stopping_callback = tf.keras.callbacks.EarlyStopping(\n",
        "    monitor='val_loss',\n",
        "    patience=3,\n",
        "    restore_best_weights=True)\n",
        "\n",
        "# Define Reduce Learning Rate Callback\n",
        "reduce_lr_callback = tf.keras.callbacks.ReduceLROnPlateau(\n",
        "    monitor='val_loss',\n",
        "    patience=2,\n",
        "    factor=0.1,\n",
        "    verbose=1)\n",
        "\n",
        "# Define Callbacks and Metrics lists\n",
        "CALLBACKS = [early_stopping_callback, reduce_lr_callback]\n",
        "METRICS = ['accuracy']"
      ],
      "metadata": {
        "papermill": {
          "duration": 0.043729,
          "end_time": "2023-02-21T13:55:15.053396",
          "exception": false,
          "start_time": "2023-02-21T13:55:15.009667",
          "status": "completed"
        },
        "tags": [],
        "id": "pVr9udU4Sh7V",
        "execution": {
          "iopub.status.busy": "2023-11-16T08:07:44.963034Z",
          "iopub.execute_input": "2023-11-16T08:07:44.963324Z",
          "iopub.status.idle": "2023-11-16T08:07:44.975932Z",
          "shell.execute_reply.started": "2023-11-16T08:07:44.963296Z",
          "shell.execute_reply": "2023-11-16T08:07:44.975108Z"
        },
        "trusted": true
      },
      "execution_count": null,
      "outputs": []
    },
    {
      "cell_type": "code",
      "source": [
        "tf.random.set_seed(CFG.SEED)\n",
        "\n",
        "# Compile the model\n",
        "model_efficientnet_v2.compile(\n",
        "    loss=tf.keras.losses.CategoricalCrossentropy(),\n",
        "    optimizer=tf.keras.optimizers.Adam(learning_rate=0.001),\n",
        "    metrics=METRICS\n",
        ")\n",
        "\n",
        "# Train the model\n",
        "print(f'Training {model_efficientnet_v2.name}.')\n",
        "print(f'Train on {len(train_df)} samples, validate on {len(val_df)} samples.')\n",
        "print('----------------------------------')\n",
        "\n",
        "efficientnet_v2_history = train_model(\n",
        "    model_efficientnet_v2, CFG.EPOCHS, CALLBACKS,\n",
        "    train_ds, val_ds,\n",
        "    shuffling=False\n",
        ")"
      ],
      "metadata": {
        "papermill": {
          "duration": 199.654103,
          "end_time": "2023-02-21T14:02:00.7353",
          "exception": false,
          "start_time": "2023-02-21T13:58:41.081197",
          "status": "completed"
        },
        "tags": [],
        "id": "A9C-InnRSh7V",
        "execution": {
          "iopub.status.busy": "2023-11-16T08:07:44.977084Z",
          "iopub.execute_input": "2023-11-16T08:07:44.977349Z",
          "iopub.status.idle": "2023-11-16T08:11:23.392236Z",
          "shell.execute_reply.started": "2023-11-16T08:07:44.977323Z",
          "shell.execute_reply": "2023-11-16T08:11:23.391193Z"
        },
        "trusted": true
      },
      "execution_count": null,
      "outputs": []
    },
    {
      "cell_type": "code",
      "source": [
        "# Evaluate the model\n",
        "efficientnet_v2_evaluation = model_efficientnet_v2.evaluate(test_ds)"
      ],
      "metadata": {
        "papermill": {
          "duration": 5.285852,
          "end_time": "2023-02-21T14:02:06.134539",
          "exception": false,
          "start_time": "2023-02-21T14:02:00.848687",
          "status": "completed"
        },
        "tags": [],
        "id": "lZUAqaczSh7V",
        "execution": {
          "iopub.status.busy": "2023-11-16T08:11:23.393792Z",
          "iopub.execute_input": "2023-11-16T08:11:23.394316Z",
          "iopub.status.idle": "2023-11-16T08:11:26.386485Z",
          "shell.execute_reply.started": "2023-11-16T08:11:23.394272Z",
          "shell.execute_reply": "2023-11-16T08:11:26.385622Z"
        },
        "trusted": true
      },
      "execution_count": null,
      "outputs": []
    },
    {
      "cell_type": "code",
      "source": [
        "# Generate model probabilities and associated predictions\n",
        "efficientnet_v2_test_probabilities = model_efficientnet_v2.predict(test_ds, verbose=1)\n",
        "efficientnet_v2_test_predictions = tf.argmax(efficientnet_v2_test_probabilities, axis=1)"
      ],
      "metadata": {
        "papermill": {
          "duration": 3.375302,
          "end_time": "2023-02-21T14:02:09.625602",
          "exception": false,
          "start_time": "2023-02-21T14:02:06.2503",
          "status": "completed"
        },
        "tags": [],
        "id": "jn62LHnHSh7W",
        "execution": {
          "iopub.status.busy": "2023-11-16T08:11:26.388259Z",
          "iopub.execute_input": "2023-11-16T08:11:26.388942Z",
          "iopub.status.idle": "2023-11-16T08:11:30.097789Z",
          "shell.execute_reply.started": "2023-11-16T08:11:26.388896Z",
          "shell.execute_reply": "2023-11-16T08:11:30.09679Z"
        },
        "trusted": true
      },
      "execution_count": null,
      "outputs": []
    },
    {
      "cell_type": "code",
      "source": [
        "!pip install -q vit-keras"
      ],
      "metadata": {
        "papermill": {
          "duration": 13.662749,
          "end_time": "2023-02-21T14:02:23.864812",
          "exception": false,
          "start_time": "2023-02-21T14:02:10.202063",
          "status": "completed"
        },
        "tags": [],
        "id": "mPbx0I0mSh7X",
        "execution": {
          "iopub.status.busy": "2023-11-16T08:11:30.107048Z",
          "iopub.execute_input": "2023-11-16T08:11:30.107438Z",
          "iopub.status.idle": "2023-11-16T08:11:41.705922Z",
          "shell.execute_reply.started": "2023-11-16T08:11:30.107404Z",
          "shell.execute_reply": "2023-11-16T08:11:41.704515Z"
        },
        "trusted": true
      },
      "execution_count": null,
      "outputs": []
    },
    {
      "cell_type": "code",
      "source": [
        "!pip install tensorflow-addons"
      ],
      "metadata": {
        "id": "snaNrSlGGCoY",
        "execution": {
          "iopub.status.busy": "2023-11-16T08:11:41.708133Z",
          "iopub.execute_input": "2023-11-16T08:11:41.70916Z",
          "iopub.status.idle": "2023-11-16T08:11:53.222181Z",
          "shell.execute_reply.started": "2023-11-16T08:11:41.709106Z",
          "shell.execute_reply": "2023-11-16T08:11:53.220899Z"
        },
        "trusted": true
      },
      "execution_count": null,
      "outputs": []
    },
    {
      "cell_type": "markdown",
      "source": [
        "<a id='4.1'></a>\n",
        "### Get Vision Transformer Model"
      ],
      "metadata": {
        "papermill": {
          "duration": 0.175406,
          "end_time": "2023-02-21T14:02:24.198752",
          "exception": false,
          "start_time": "2023-02-21T14:02:24.023346",
          "status": "completed"
        },
        "tags": [],
        "id": "ih48Si_dSh7X"
      }
    },
    {
      "cell_type": "code",
      "source": [
        "from vit_keras import vit\n",
        "\n",
        "# Download the model|\n",
        "vit_model = vit.vit_b16(\n",
        "        image_size=224,\n",
        "        activation='softmax',\n",
        "        pretrained=True,\n",
        "        include_top=False,\n",
        "        pretrained_top=False,\n",
        "        classes=2)\n",
        "\n",
        "# Freeze model layers for inference-mode only\n",
        "for layer in vit_model.layers:\n",
        "    layer.trainable = False"
      ],
      "metadata": {
        "papermill": {
          "duration": 30.058112,
          "end_time": "2023-02-21T14:02:54.43679",
          "exception": false,
          "start_time": "2023-02-21T14:02:24.378678",
          "status": "completed"
        },
        "tags": [],
        "id": "7VKXc--LSh7Y",
        "execution": {
          "iopub.status.busy": "2023-11-16T08:11:53.223877Z",
          "iopub.execute_input": "2023-11-16T08:11:53.224216Z",
          "iopub.status.idle": "2023-11-16T08:11:56.894846Z",
          "shell.execute_reply.started": "2023-11-16T08:11:53.22418Z",
          "shell.execute_reply": "2023-11-16T08:11:56.893831Z"
        },
        "trusted": true
      },
      "execution_count": null,
      "outputs": []
    },
    {
      "cell_type": "markdown",
      "source": [
        "<a id='4.2'></a>\n",
        "### Define Vision Transformer Model"
      ],
      "metadata": {
        "papermill": {
          "duration": 0.121419,
          "end_time": "2023-02-21T14:02:54.680702",
          "exception": false,
          "start_time": "2023-02-21T14:02:54.559283",
          "status": "completed"
        },
        "tags": [],
        "id": "RLUqnLrRSh7Y"
      }
    },
    {
      "cell_type": "code",
      "source": [
        "def vit_b16_model():\n",
        "\n",
        "    initializer = tf.keras.initializers.GlorotNormal(seed=CFG.SEED)\n",
        "\n",
        "    vit_b16_sequential = Sequential([\n",
        "        layers.Input(shape=CFG.IMAGE_SIZE, dtype=tf.float32, name='input_image'),\n",
        "        vit_model,\n",
        "        layers.Dropout(0.2),\n",
        "        layers.Dense(512, activation='relu', kernel_initializer=initializer),\n",
        "        layers.Dense(256, activation='relu', kernel_initializer=initializer),\n",
        "        layers.Dense(24, dtype=tf.float32, activation='softmax', kernel_initializer=initializer)\n",
        "    ], name='vit_b16_sequential_model')\n",
        "\n",
        "    return vit_b16_sequential"
      ],
      "metadata": {
        "papermill": {
          "duration": 0.155461,
          "end_time": "2023-02-21T14:02:54.979939",
          "exception": false,
          "start_time": "2023-02-21T14:02:54.824478",
          "status": "completed"
        },
        "tags": [],
        "id": "uOGyW7xnSh7d",
        "execution": {
          "iopub.status.busy": "2023-11-16T08:11:56.896139Z",
          "iopub.execute_input": "2023-11-16T08:11:56.896472Z",
          "iopub.status.idle": "2023-11-16T08:11:56.90438Z",
          "shell.execute_reply.started": "2023-11-16T08:11:56.89644Z",
          "shell.execute_reply": "2023-11-16T08:11:56.903113Z"
        },
        "trusted": true
      },
      "execution_count": null,
      "outputs": []
    },
    {
      "cell_type": "code",
      "source": [
        "# Generate Model\n",
        "model_vit_b16 = vit_b16_model()\n",
        "\n",
        "# Generate Summary of the Model\n",
        "model_vit_b16.summary()"
      ],
      "metadata": {
        "papermill": {
          "duration": 1.508773,
          "end_time": "2023-02-21T14:02:56.61344",
          "exception": false,
          "start_time": "2023-02-21T14:02:55.104667",
          "status": "completed"
        },
        "tags": [],
        "id": "pl7EZIJXSh7d",
        "execution": {
          "iopub.status.busy": "2023-11-16T08:11:56.906131Z",
          "iopub.execute_input": "2023-11-16T08:11:56.906467Z",
          "iopub.status.idle": "2023-11-16T08:11:58.726566Z",
          "shell.execute_reply.started": "2023-11-16T08:11:56.906436Z",
          "shell.execute_reply": "2023-11-16T08:11:58.725461Z"
        },
        "trusted": true
      },
      "execution_count": null,
      "outputs": []
    },
    {
      "cell_type": "code",
      "source": [
        "# Explore model visually\n",
        "plot_model(\n",
        "    model_vit_b16, dpi=60,\n",
        "    show_shapes=True\n",
        ")"
      ],
      "metadata": {
        "papermill": {
          "duration": 0.296187,
          "end_time": "2023-02-21T14:02:57.030832",
          "exception": false,
          "start_time": "2023-02-21T14:02:56.734645",
          "status": "completed"
        },
        "tags": [],
        "id": "jCoOA2e2Sh7e",
        "execution": {
          "iopub.status.busy": "2023-11-16T08:11:58.72824Z",
          "iopub.execute_input": "2023-11-16T08:11:58.7291Z",
          "iopub.status.idle": "2023-11-16T08:11:58.953441Z",
          "shell.execute_reply.started": "2023-11-16T08:11:58.729051Z",
          "shell.execute_reply": "2023-11-16T08:11:58.95208Z"
        },
        "trusted": true
      },
      "execution_count": null,
      "outputs": []
    },
    {
      "cell_type": "markdown",
      "source": [
        "<a id='4.3'></a>\n",
        "### Train Vision Transformer Model"
      ],
      "metadata": {
        "papermill": {
          "duration": 0.181769,
          "end_time": "2023-02-21T14:02:57.394437",
          "exception": false,
          "start_time": "2023-02-21T14:02:57.212668",
          "status": "completed"
        },
        "tags": [],
        "id": "GkEbBX88Sh7e"
      }
    },
    {
      "cell_type": "code",
      "source": [
        "tf.random.set_seed(CFG.SEED)\n",
        "\n",
        "# Compile the model\n",
        "model_vit_b16.compile(\n",
        "    loss=tf.keras.losses.CategoricalCrossentropy(),\n",
        "    optimizer=tf.keras.optimizers.Adam(learning_rate=0.001),\n",
        "    metrics=METRICS\n",
        ")\n",
        "\n",
        "# Train the model\n",
        "print(f'Training {model_vit_b16.name}.')\n",
        "print(f'Train on {len(train_df)} samples, validate on {len(val_df)} samples.')\n",
        "print('----------------------------------')\n",
        "\n",
        "vit_b16_history = train_model(\n",
        "    model_vit_b16, CFG.EPOCHS, CALLBACKS,\n",
        "    train_ds, val_ds,\n",
        "    shuffling=False\n",
        ")"
      ],
      "metadata": {
        "papermill": {
          "duration": 338.566616,
          "end_time": "2023-02-21T14:08:36.140245",
          "exception": false,
          "start_time": "2023-02-21T14:02:57.573629",
          "status": "completed"
        },
        "tags": [],
        "id": "OZY9bb4ESh7f",
        "execution": {
          "iopub.status.busy": "2023-11-16T08:11:58.955348Z",
          "iopub.execute_input": "2023-11-16T08:11:58.955678Z",
          "iopub.status.idle": "2023-11-16T08:19:21.960323Z",
          "shell.execute_reply.started": "2023-11-16T08:11:58.955644Z",
          "shell.execute_reply": "2023-11-16T08:19:21.959319Z"
        },
        "trusted": true
      },
      "execution_count": null,
      "outputs": []
    },
    {
      "cell_type": "code",
      "source": [
        "# Evaluate the model\n",
        "vit_b16_evaluation = model_vit_b16.evaluate(test_ds)"
      ],
      "metadata": {
        "papermill": {
          "duration": 10.426454,
          "end_time": "2023-02-21T14:08:46.726589",
          "exception": false,
          "start_time": "2023-02-21T14:08:36.300135",
          "status": "completed"
        },
        "tags": [],
        "id": "LtAAzMM1Sh7f",
        "execution": {
          "iopub.status.busy": "2023-11-16T08:19:21.961585Z",
          "iopub.execute_input": "2023-11-16T08:19:21.961936Z",
          "iopub.status.idle": "2023-11-16T08:19:33.212436Z",
          "shell.execute_reply.started": "2023-11-16T08:19:21.961902Z",
          "shell.execute_reply": "2023-11-16T08:19:33.211576Z"
        },
        "trusted": true
      },
      "execution_count": null,
      "outputs": []
    },
    {
      "cell_type": "code",
      "source": [
        "# Generate model probabilities and associated predictions\n",
        "vit_b16_test_probabilities = model_vit_b16.predict(test_ds, verbose=1)\n",
        "vit_b16_test_predictions = tf.argmax(vit_b16_test_probabilities, axis=1)"
      ],
      "metadata": {
        "papermill": {
          "duration": 7.960969,
          "end_time": "2023-02-21T14:08:54.879463",
          "exception": false,
          "start_time": "2023-02-21T14:08:46.918494",
          "status": "completed"
        },
        "tags": [],
        "id": "YgAlL3NaSh7f",
        "execution": {
          "iopub.status.busy": "2023-11-16T08:19:33.213917Z",
          "iopub.execute_input": "2023-11-16T08:19:33.21424Z",
          "iopub.status.idle": "2023-11-16T08:19:47.055967Z",
          "shell.execute_reply.started": "2023-11-16T08:19:33.21421Z",
          "shell.execute_reply": "2023-11-16T08:19:47.054888Z"
        },
        "trusted": true
      },
      "execution_count": null,
      "outputs": []
    },
    {
      "cell_type": "code",
      "source": [
        "# Compute average probabilities\n",
        "avg_probabilities = np.mean([\n",
        "    efficientnet_v2_test_probabilities,\n",
        "    vit_b16_test_probabilities], axis=0)\n",
        "\n",
        "# Compute average ensemble predictions\n",
        "avg_predictions = tf.argmax(avg_probabilities, axis=1)"
      ],
      "metadata": {
        "id": "s30nKk3cSh7h",
        "execution": {
          "iopub.status.busy": "2023-11-16T08:19:47.057398Z",
          "iopub.execute_input": "2023-11-16T08:19:47.058131Z",
          "iopub.status.idle": "2023-11-16T08:19:47.064751Z",
          "shell.execute_reply.started": "2023-11-16T08:19:47.058094Z",
          "shell.execute_reply": "2023-11-16T08:19:47.063623Z"
        },
        "trusted": true
      },
      "execution_count": null,
      "outputs": []
    },
    {
      "cell_type": "code",
      "source": [
        "# Define weights and list model probabilities\n",
        "weights = [0.6, 0.4]\n",
        "model_probabilities = [efficientnet_v2_test_probabilities, vit_b16_test_probabilities]\n",
        "\n",
        "# Compute weighted average probabilities\n",
        "weighted_avg_probabilities = sum([w * p for w, p in zip(weights, model_probabilities)])\n",
        "\n",
        "# Compute weighted average ensemble predictions\n",
        "weighted_avg_predictions = tf.argmax(weighted_avg_probabilities, axis=1)"
      ],
      "metadata": {
        "id": "OKMUedbySh7i",
        "execution": {
          "iopub.status.busy": "2023-11-16T08:19:47.066098Z",
          "iopub.execute_input": "2023-11-16T08:19:47.0667Z",
          "iopub.status.idle": "2023-11-16T08:19:47.076863Z",
          "shell.execute_reply.started": "2023-11-16T08:19:47.066659Z",
          "shell.execute_reply": "2023-11-16T08:19:47.076029Z"
        },
        "trusted": true
      },
      "execution_count": null,
      "outputs": []
    },
    {
      "cell_type": "code",
      "source": [
        "# List model probabilities\n",
        "model_probabilities = [efficientnet_v2_test_probabilities, vit_b16_test_probabilities]\n",
        "\n",
        "# Compute geometric mean probabilities\n",
        "geometric_mean_probabilities = np.power(np.multiply(model_probabilities[0],\n",
        "                                                    model_probabilities[1]),\n",
        "                                        1/len(model_probabilities))\n",
        "\n",
        "# Compute weighted average ensemble predictions\n",
        "geometric_mean_predictions = tf.argmax(geometric_mean_probabilities, axis=1)"
      ],
      "metadata": {
        "id": "09N51LT8Sh7j",
        "execution": {
          "iopub.status.busy": "2023-11-16T08:19:47.078011Z",
          "iopub.execute_input": "2023-11-16T08:19:47.078311Z",
          "iopub.status.idle": "2023-11-16T08:19:47.087963Z",
          "shell.execute_reply.started": "2023-11-16T08:19:47.078271Z",
          "shell.execute_reply": "2023-11-16T08:19:47.087123Z"
        },
        "trusted": true
      },
      "execution_count": null,
      "outputs": []
    },
    {
      "cell_type": "markdown",
      "source": [
        "<a id='6.1'></a>\n",
        "### Plot Model Histories"
      ],
      "metadata": {
        "papermill": {
          "duration": 0.241977,
          "end_time": "2023-02-21T14:08:56.369325",
          "exception": false,
          "start_time": "2023-02-21T14:08:56.127348",
          "status": "completed"
        },
        "tags": [],
        "id": "f5U3AplPSh7j"
      }
    },
    {
      "cell_type": "code",
      "source": [
        "def plot_training_curves(history):\n",
        "\n",
        "    loss = np.array(history.history['loss'])\n",
        "    val_loss = np.array(history.history['val_loss'])\n",
        "\n",
        "    accuracy = np.array(history.history['accuracy'])\n",
        "    val_accuracy = np.array(history.history['val_accuracy'])\n",
        "\n",
        "    epochs = range(len(history.history['loss']))\n",
        "\n",
        "    fig, (ax1, ax2) = plt.subplots(1, 2, figsize=(20, 10))\n",
        "\n",
        "    # Plot loss\n",
        "    ax1.plot(epochs, loss, label='training_loss', marker='o')\n",
        "    ax1.plot(epochs, val_loss, label='val_loss', marker='o')\n",
        "\n",
        "    ax1.fill_between(epochs, loss, val_loss, where=(loss > val_loss), color='C0', alpha=0.3, interpolate=True)\n",
        "    ax1.fill_between(epochs, loss, val_loss, where=(loss < val_loss), color='C1', alpha=0.3, interpolate=True)\n",
        "\n",
        "    ax1.set_title('Loss (Lower Means Better)', fontsize=16)\n",
        "    ax1.set_xlabel('Epochs', fontsize=12)\n",
        "    ax1.legend()\n",
        "\n",
        "    # Plot accuracy\n",
        "    ax2.plot(epochs, accuracy, label='training_accuracy', marker='o')\n",
        "    ax2.plot(epochs, val_accuracy, label='val_accuracy', marker='o')\n",
        "\n",
        "    ax2.fill_between(epochs, accuracy, val_accuracy, where=(accuracy > val_accuracy), color='C0', alpha=0.3, interpolate=True)\n",
        "    ax2.fill_between(epochs, accuracy, val_accuracy, where=(accuracy < val_accuracy), color='C1', alpha=0.3, interpolate=True)\n",
        "\n",
        "    ax2.set_title('Accuracy (Higher Means Better)', fontsize=16)\n",
        "    ax2.set_xlabel('Epochs', fontsize=12)\n",
        "    ax2.legend();"
      ],
      "metadata": {
        "papermill": {
          "duration": 0.173608,
          "end_time": "2023-02-21T14:08:56.702586",
          "exception": false,
          "start_time": "2023-02-21T14:08:56.528978",
          "status": "completed"
        },
        "tags": [],
        "id": "7aNu7NP_Sh7k",
        "execution": {
          "iopub.status.busy": "2023-11-16T08:19:47.089194Z",
          "iopub.execute_input": "2023-11-16T08:19:47.089475Z",
          "iopub.status.idle": "2023-11-16T08:19:47.103352Z",
          "shell.execute_reply.started": "2023-11-16T08:19:47.089448Z",
          "shell.execute_reply": "2023-11-16T08:19:47.102349Z"
        },
        "trusted": true
      },
      "execution_count": null,
      "outputs": []
    },
    {
      "cell_type": "code",
      "source": [
        "# Plot EfficientNet V2 B0 model training history\n",
        "plot_training_curves(efficientnet_v2_history)"
      ],
      "metadata": {
        "papermill": {
          "duration": 0.513767,
          "end_time": "2023-02-21T14:08:58.494103",
          "exception": false,
          "start_time": "2023-02-21T14:08:57.980336",
          "status": "completed"
        },
        "tags": [],
        "id": "fGpqO-XGSh7k",
        "execution": {
          "iopub.status.busy": "2023-11-16T08:19:47.104645Z",
          "iopub.execute_input": "2023-11-16T08:19:47.105579Z",
          "iopub.status.idle": "2023-11-16T08:19:47.630004Z",
          "shell.execute_reply.started": "2023-11-16T08:19:47.105539Z",
          "shell.execute_reply": "2023-11-16T08:19:47.629004Z"
        },
        "trusted": true
      },
      "execution_count": null,
      "outputs": []
    },
    {
      "cell_type": "code",
      "source": [
        "# Plot VIT B16 model training history\n",
        "plot_training_curves(vit_b16_history)"
      ],
      "metadata": {
        "papermill": {
          "duration": 0.534368,
          "end_time": "2023-02-21T14:08:59.55579",
          "exception": false,
          "start_time": "2023-02-21T14:08:59.021422",
          "status": "completed"
        },
        "tags": [],
        "id": "8j89zRwiSh7l",
        "execution": {
          "iopub.status.busy": "2023-11-16T08:19:47.631501Z",
          "iopub.execute_input": "2023-11-16T08:19:47.632013Z",
          "iopub.status.idle": "2023-11-16T08:19:48.163016Z",
          "shell.execute_reply.started": "2023-11-16T08:19:47.631967Z",
          "shell.execute_reply": "2023-11-16T08:19:48.161988Z"
        },
        "trusted": true
      },
      "execution_count": null,
      "outputs": []
    },
    {
      "cell_type": "code",
      "source": [
        "def plot_confusion_matrix(y_true, y_pred, classes='auto', figsize=(10, 10), text_size=12):\n",
        "    # Generate confusion matrix\n",
        "    cm = confusion_matrix(y_true, y_pred)\n",
        "\n",
        "    # Set plot size\n",
        "    plt.figure(figsize=figsize)\n",
        "\n",
        "    # Create confusion matrix heatmap\n",
        "    disp = sns.heatmap(\n",
        "        cm, annot=True, cmap='Greens',\n",
        "        annot_kws={\"size\": text_size}, fmt='g',\n",
        "        linewidths=0.5, linecolor='black', clip_on=False,\n",
        "        xticklabels=classes, yticklabels=classes)\n",
        "\n",
        "    # Set title and axis labels\n",
        "    disp.set_title('Confusion Matrix', fontsize=24)\n",
        "    disp.set_xlabel('Predicted Label', fontsize=20)\n",
        "    disp.set_ylabel('True Label', fontsize=20)\n",
        "    plt.yticks(rotation=0)\n",
        "\n",
        "    # Plot confusion matrix\n",
        "    plt.show()\n",
        "\n",
        "    return"
      ],
      "metadata": {
        "papermill": {
          "duration": 0.174653,
          "end_time": "2023-02-21T14:09:00.761359",
          "exception": false,
          "start_time": "2023-02-21T14:09:00.586706",
          "status": "completed"
        },
        "tags": [],
        "id": "mhcGggolSh7m",
        "execution": {
          "iopub.status.busy": "2023-11-16T08:19:48.164352Z",
          "iopub.execute_input": "2023-11-16T08:19:48.164669Z",
          "iopub.status.idle": "2023-11-16T08:19:48.172608Z",
          "shell.execute_reply.started": "2023-11-16T08:19:48.164639Z",
          "shell.execute_reply": "2023-11-16T08:19:48.171677Z"
        },
        "trusted": true
      },
      "execution_count": null,
      "outputs": []
    },
    {
      "cell_type": "markdown",
      "source": [
        "### EfficientNet V2 B0 Confusion Matrix"
      ],
      "metadata": {
        "papermill": {
          "duration": 0.162315,
          "end_time": "2023-02-21T14:09:01.992352",
          "exception": false,
          "start_time": "2023-02-21T14:09:01.830037",
          "status": "completed"
        },
        "tags": [],
        "id": "D4UM4OSdSh7m"
      }
    },
    {
      "cell_type": "code",
      "source": [
        "plot_confusion_matrix(\n",
        "    test_df.label_encoded,\n",
        "    efficientnet_v2_test_predictions,\n",
        "    figsize=(14, 10),\n",
        "    classes=class_names)"
      ],
      "metadata": {
        "papermill": {
          "duration": 0.438901,
          "end_time": "2023-02-21T14:09:02.593958",
          "exception": false,
          "start_time": "2023-02-21T14:09:02.155057",
          "status": "completed"
        },
        "tags": [],
        "id": "kFtoeOpLSh7m",
        "execution": {
          "iopub.status.busy": "2023-11-16T08:19:48.173956Z",
          "iopub.execute_input": "2023-11-16T08:19:48.174324Z",
          "iopub.status.idle": "2023-11-16T08:19:48.529972Z",
          "shell.execute_reply.started": "2023-11-16T08:19:48.174286Z",
          "shell.execute_reply": "2023-11-16T08:19:48.528976Z"
        },
        "trusted": true
      },
      "execution_count": null,
      "outputs": []
    },
    {
      "cell_type": "markdown",
      "source": [
        "### ViT-b16 Confusion Matrix"
      ],
      "metadata": {
        "papermill": {
          "duration": 0.168776,
          "end_time": "2023-02-21T14:09:02.929242",
          "exception": false,
          "start_time": "2023-02-21T14:09:02.760466",
          "status": "completed"
        },
        "tags": [],
        "id": "SRUjtT-ZSh7n"
      }
    },
    {
      "cell_type": "code",
      "source": [
        "plot_confusion_matrix(\n",
        "    test_df.label_encoded,\n",
        "    vit_b16_test_predictions,\n",
        "    figsize=(14, 10),\n",
        "    classes=class_names)"
      ],
      "metadata": {
        "papermill": {
          "duration": 0.40293,
          "end_time": "2023-02-21T14:09:03.501149",
          "exception": false,
          "start_time": "2023-02-21T14:09:03.098219",
          "status": "completed"
        },
        "tags": [],
        "id": "pMWEpS3tSh7n",
        "execution": {
          "iopub.status.busy": "2023-11-16T08:19:48.531455Z",
          "iopub.execute_input": "2023-11-16T08:19:48.531865Z",
          "iopub.status.idle": "2023-11-16T08:19:48.829159Z",
          "shell.execute_reply.started": "2023-11-16T08:19:48.531805Z",
          "shell.execute_reply": "2023-11-16T08:19:48.828009Z"
        },
        "trusted": true
      },
      "execution_count": null,
      "outputs": []
    },
    {
      "cell_type": "markdown",
      "source": [
        "### Average Ensemble Confusion Matrix"
      ],
      "metadata": {
        "id": "7b0i56oeSh7n"
      }
    },
    {
      "cell_type": "code",
      "source": [
        "plot_confusion_matrix(\n",
        "    test_df.label_encoded,\n",
        "    avg_predictions,\n",
        "    figsize=(14, 10),\n",
        "    classes=class_names)"
      ],
      "metadata": {
        "id": "-eVSbT6SSh7o",
        "execution": {
          "iopub.status.busy": "2023-11-16T08:19:48.830557Z",
          "iopub.execute_input": "2023-11-16T08:19:48.830908Z",
          "iopub.status.idle": "2023-11-16T08:19:49.117969Z",
          "shell.execute_reply.started": "2023-11-16T08:19:48.830874Z",
          "shell.execute_reply": "2023-11-16T08:19:49.116907Z"
        },
        "trusted": true
      },
      "execution_count": null,
      "outputs": []
    },
    {
      "cell_type": "markdown",
      "source": [
        "### Weighted Average Ensemble Confusion Matrix"
      ],
      "metadata": {
        "id": "c145B5F8Sh7o"
      }
    },
    {
      "cell_type": "code",
      "source": [
        "plot_confusion_matrix(\n",
        "    test_df.label_encoded,\n",
        "    weighted_avg_predictions,\n",
        "    figsize=(14, 10),\n",
        "    classes=class_names)"
      ],
      "metadata": {
        "id": "EDLv3o77Sh7o",
        "execution": {
          "iopub.status.busy": "2023-11-16T08:19:49.119443Z",
          "iopub.execute_input": "2023-11-16T08:19:49.119856Z",
          "iopub.status.idle": "2023-11-16T08:19:49.47368Z",
          "shell.execute_reply.started": "2023-11-16T08:19:49.119796Z",
          "shell.execute_reply": "2023-11-16T08:19:49.472685Z"
        },
        "trusted": true
      },
      "execution_count": null,
      "outputs": []
    },
    {
      "cell_type": "markdown",
      "source": [
        "### Geometric Mean Ensemble Confusion Matrix"
      ],
      "metadata": {
        "id": "-brjrppqSh7o"
      }
    },
    {
      "cell_type": "code",
      "source": [
        "plot_confusion_matrix(\n",
        "    test_df.label_encoded,\n",
        "    geometric_mean_predictions,\n",
        "    figsize=(14, 10),\n",
        "    classes=class_names)"
      ],
      "metadata": {
        "id": "BI0u2IfASh7p",
        "execution": {
          "iopub.status.busy": "2023-11-16T08:19:49.47525Z",
          "iopub.execute_input": "2023-11-16T08:19:49.475737Z",
          "iopub.status.idle": "2023-11-16T08:19:49.830732Z",
          "shell.execute_reply.started": "2023-11-16T08:19:49.475692Z",
          "shell.execute_reply": "2023-11-16T08:19:49.829709Z"
        },
        "trusted": true
      },
      "execution_count": null,
      "outputs": []
    },
    {
      "cell_type": "markdown",
      "source": [
        "<a id='6.3'></a>\n",
        "### View Classification Reports"
      ],
      "metadata": {
        "papermill": {
          "duration": 0.170818,
          "end_time": "2023-02-21T14:09:06.975425",
          "exception": false,
          "start_time": "2023-02-21T14:09:06.804607",
          "status": "completed"
        },
        "tags": [],
        "id": "QWyEHMqVSh7p"
      }
    },
    {
      "cell_type": "code",
      "source": [
        "# EfficientNet V2 Report\n",
        "print(classification_report(test_df.label_encoded,\n",
        "                            efficientnet_v2_test_predictions,\n",
        "                            target_names=class_names))"
      ],
      "metadata": {
        "papermill": {
          "duration": 0.186846,
          "end_time": "2023-02-21T14:09:07.747642",
          "exception": false,
          "start_time": "2023-02-21T14:09:07.560796",
          "status": "completed"
        },
        "tags": [],
        "id": "XJ8uLcZ6Sh7q",
        "execution": {
          "iopub.status.busy": "2023-11-16T08:19:49.831969Z",
          "iopub.execute_input": "2023-11-16T08:19:49.832261Z",
          "iopub.status.idle": "2023-11-16T08:19:49.84516Z",
          "shell.execute_reply.started": "2023-11-16T08:19:49.832233Z",
          "shell.execute_reply": "2023-11-16T08:19:49.844151Z"
        },
        "trusted": true
      },
      "execution_count": null,
      "outputs": []
    },
    {
      "cell_type": "code",
      "source": [
        "# ViT-b16 Report\n",
        "print(classification_report(test_df.label_encoded,\n",
        "                            vit_b16_test_predictions,\n",
        "                            target_names=class_names))"
      ],
      "metadata": {
        "papermill": {
          "duration": 0.18786,
          "end_time": "2023-02-21T14:09:08.107182",
          "exception": false,
          "start_time": "2023-02-21T14:09:07.919322",
          "status": "completed"
        },
        "tags": [],
        "id": "1fYkLFnDSh7q",
        "execution": {
          "iopub.status.busy": "2023-11-16T08:19:49.846661Z",
          "iopub.execute_input": "2023-11-16T08:19:49.84714Z",
          "iopub.status.idle": "2023-11-16T08:19:49.860086Z",
          "shell.execute_reply.started": "2023-11-16T08:19:49.847098Z",
          "shell.execute_reply": "2023-11-16T08:19:49.858703Z"
        },
        "trusted": true
      },
      "execution_count": null,
      "outputs": []
    },
    {
      "cell_type": "code",
      "source": [
        "# Average Ensemble Report\n",
        "print(classification_report(test_df.label_encoded,\n",
        "                            avg_predictions,\n",
        "                            target_names=class_names))"
      ],
      "metadata": {
        "id": "sCWvQQ9JSh7q",
        "execution": {
          "iopub.status.busy": "2023-11-16T08:19:49.861288Z",
          "iopub.execute_input": "2023-11-16T08:19:49.861566Z",
          "iopub.status.idle": "2023-11-16T08:19:49.87574Z",
          "shell.execute_reply.started": "2023-11-16T08:19:49.86154Z",
          "shell.execute_reply": "2023-11-16T08:19:49.874719Z"
        },
        "trusted": true
      },
      "execution_count": null,
      "outputs": []
    },
    {
      "cell_type": "code",
      "source": [
        "# Weighted Average Ensemble Report\n",
        "print(classification_report(test_df.label_encoded,\n",
        "                            weighted_avg_predictions,\n",
        "                            target_names=class_names))"
      ],
      "metadata": {
        "id": "dhTU1dRcSh7q",
        "execution": {
          "iopub.status.busy": "2023-11-16T08:19:49.877412Z",
          "iopub.execute_input": "2023-11-16T08:19:49.877867Z",
          "iopub.status.idle": "2023-11-16T08:19:49.890265Z",
          "shell.execute_reply.started": "2023-11-16T08:19:49.877801Z",
          "shell.execute_reply": "2023-11-16T08:19:49.889345Z"
        },
        "trusted": true
      },
      "execution_count": null,
      "outputs": []
    },
    {
      "cell_type": "code",
      "source": [
        "# Geometric Mean Ensemble Report\n",
        "print(classification_report(test_df.label_encoded,\n",
        "                            geometric_mean_predictions,\n",
        "                            target_names=class_names))"
      ],
      "metadata": {
        "id": "Mct0A6LpSh7r",
        "execution": {
          "iopub.status.busy": "2023-11-16T08:19:49.891685Z",
          "iopub.execute_input": "2023-11-16T08:19:49.892359Z",
          "iopub.status.idle": "2023-11-16T08:19:49.904506Z",
          "shell.execute_reply.started": "2023-11-16T08:19:49.892319Z",
          "shell.execute_reply": "2023-11-16T08:19:49.903295Z"
        },
        "trusted": true
      },
      "execution_count": null,
      "outputs": []
    },
    {
      "cell_type": "markdown",
      "source": [
        "<a id='6.4'></a>\n",
        "### Record Classification Metrics"
      ],
      "metadata": {
        "papermill": {
          "duration": 0.171037,
          "end_time": "2023-02-21T14:09:08.459299",
          "exception": false,
          "start_time": "2023-02-21T14:09:08.288262",
          "status": "completed"
        },
        "tags": [],
        "id": "RRgQTpMdSh7r"
      }
    },
    {
      "cell_type": "code",
      "source": [
        "y_probabilities = efficientnet_v2_test_probabilities[:, :4]"
      ],
      "metadata": {
        "id": "aP-XH52abzV3",
        "execution": {
          "iopub.status.busy": "2023-11-16T08:19:49.905667Z",
          "iopub.execute_input": "2023-11-16T08:19:49.905959Z",
          "iopub.status.idle": "2023-11-16T08:19:49.910484Z",
          "shell.execute_reply.started": "2023-11-16T08:19:49.905931Z",
          "shell.execute_reply": "2023-11-16T08:19:49.90952Z"
        },
        "trusted": true
      },
      "execution_count": null,
      "outputs": []
    },
    {
      "cell_type": "code",
      "source": [
        "from sklearn.metrics import (accuracy_score, precision_recall_fscore_support,\n",
        "                             matthews_corrcoef, top_k_accuracy_score)\n",
        "\n",
        "def generate_preformance_scores(y_true, y_pred, y_probabilities):\n",
        "\n",
        "    # Workaround: Use only the first 4 columns for now\n",
        "    y_probabilities = y_probabilities[:, :4]\n",
        "\n",
        "    model_accuracy = accuracy_score(y_true, y_pred)\n",
        "    top_3_accuracy = top_k_accuracy_score(y_true, y_probabilities, k=3)\n",
        "    model_precision, model_recall, model_f1, _ = precision_recall_fscore_support(y_true,\n",
        "                                                                                 y_pred,\n",
        "                                                                                 average=\"weighted\")\n",
        "    model_matthews_corrcoef = matthews_corrcoef(y_true, y_pred)\n",
        "\n",
        "\n",
        "    print('=============================================')\n",
        "    print(f'\\nPerformance Metrics:\\n')\n",
        "    print('=============================================')\n",
        "    print(f'accuracy_score:\\t\\t{model_accuracy:.4f}\\n')\n",
        "    print('_____________________________________________')\n",
        "    print(f'top_3_accuracy_score:\\t{top_3_accuracy:.4f}\\n')\n",
        "    print('_____________________________________________')\n",
        "    print(f'precision_score:\\t{model_precision:.4f}\\n')\n",
        "    print('_____________________________________________')\n",
        "    print(f'recall_score:\\t\\t{model_recall:.4f}\\n')\n",
        "    print('_____________________________________________')\n",
        "    print(f'f1_score:\\t\\t{model_f1:.4f}\\n')\n",
        "    print('_____________________________________________')\n",
        "    print(f'matthews_corrcoef:\\t{model_matthews_corrcoef:.4f}\\n')\n",
        "    print('=============================================')\n",
        "\n",
        "    preformance_scores = {\n",
        "        'accuracy_score': model_accuracy,\n",
        "        'top_3_accuracy': top_3_accuracy,\n",
        "        'precision_score': model_precision,\n",
        "        'recall_score': model_recall,\n",
        "        'f1_score': model_f1,\n",
        "        'matthews_corrcoef': model_matthews_corrcoef\n",
        "    }\n",
        "    return preformance_scores\n"
      ],
      "metadata": {
        "id": "KTMcNn8UaZTc",
        "execution": {
          "iopub.status.busy": "2023-11-16T08:19:49.911747Z",
          "iopub.execute_input": "2023-11-16T08:19:49.912077Z",
          "iopub.status.idle": "2023-11-16T08:19:49.923003Z",
          "shell.execute_reply.started": "2023-11-16T08:19:49.912048Z",
          "shell.execute_reply": "2023-11-16T08:19:49.922016Z"
        },
        "trusted": true
      },
      "execution_count": null,
      "outputs": []
    },
    {
      "cell_type": "code",
      "source": [
        "# Generate EfficieNet model performance scores\n",
        "efficientnet_v2_performance = generate_preformance_scores(test_df.label_encoded,\n",
        "                                                          efficientnet_v2_test_predictions,\n",
        "                                                          efficientnet_v2_test_probabilities)\n",
        "\n",
        "\n",
        "# efficientnet_v2_performance = generate_preformance_scores(y_true_one_hot, efficientnet_v2_test_predictions, efficientnet_v2_test_probabilities)"
      ],
      "metadata": {
        "papermill": {
          "duration": 0.227044,
          "end_time": "2023-02-21T14:09:09.590663",
          "exception": false,
          "start_time": "2023-02-21T14:09:09.363619",
          "status": "completed"
        },
        "tags": [],
        "id": "BjZb0Uq0Sh7s",
        "execution": {
          "iopub.status.busy": "2023-11-16T08:19:49.924312Z",
          "iopub.execute_input": "2023-11-16T08:19:49.924664Z",
          "iopub.status.idle": "2023-11-16T08:19:49.940933Z",
          "shell.execute_reply.started": "2023-11-16T08:19:49.924627Z",
          "shell.execute_reply": "2023-11-16T08:19:49.939784Z"
        },
        "trusted": true
      },
      "execution_count": null,
      "outputs": []
    },
    {
      "cell_type": "code",
      "source": [
        "# Generate ViT model performance scores\n",
        "vit_b16_performance = generate_preformance_scores(test_df.label_encoded,\n",
        "                                                  vit_b16_test_predictions,\n",
        "                                                  vit_b16_test_probabilities)"
      ],
      "metadata": {
        "papermill": {
          "duration": 0.228937,
          "end_time": "2023-02-21T14:09:09.990317",
          "exception": false,
          "start_time": "2023-02-21T14:09:09.76138",
          "status": "completed"
        },
        "tags": [],
        "id": "A8pI2q4fSh7t",
        "execution": {
          "iopub.status.busy": "2023-11-16T08:19:49.942162Z",
          "iopub.execute_input": "2023-11-16T08:19:49.942532Z",
          "iopub.status.idle": "2023-11-16T08:19:49.954982Z",
          "shell.execute_reply.started": "2023-11-16T08:19:49.942478Z",
          "shell.execute_reply": "2023-11-16T08:19:49.953888Z"
        },
        "trusted": true
      },
      "execution_count": null,
      "outputs": []
    },
    {
      "cell_type": "code",
      "source": [
        "# Generate Average Ensemble performance scores\n",
        "avg_ensemble_performance = generate_preformance_scores(test_df.label_encoded,\n",
        "                                                       avg_predictions,\n",
        "                                                       avg_probabilities)"
      ],
      "metadata": {
        "id": "xpfQsmrUSh7t",
        "execution": {
          "iopub.status.busy": "2023-11-16T08:19:49.956151Z",
          "iopub.execute_input": "2023-11-16T08:19:49.956443Z",
          "iopub.status.idle": "2023-11-16T08:19:49.966884Z",
          "shell.execute_reply.started": "2023-11-16T08:19:49.956415Z",
          "shell.execute_reply": "2023-11-16T08:19:49.965908Z"
        },
        "trusted": true
      },
      "execution_count": null,
      "outputs": []
    },
    {
      "cell_type": "code",
      "source": [
        "# Generate Weighted Average Ensemble performance scores\n",
        "weigthed_avg_ensemble_performance = generate_preformance_scores(test_df.label_encoded,\n",
        "                                                                weighted_avg_predictions,\n",
        "                                                                weighted_avg_probabilities)"
      ],
      "metadata": {
        "id": "BQRUwUIJSh7t",
        "execution": {
          "iopub.status.busy": "2023-11-16T08:19:49.968233Z",
          "iopub.execute_input": "2023-11-16T08:19:49.968553Z",
          "iopub.status.idle": "2023-11-16T08:19:49.978571Z",
          "shell.execute_reply.started": "2023-11-16T08:19:49.968524Z",
          "shell.execute_reply": "2023-11-16T08:19:49.977546Z"
        },
        "trusted": true
      },
      "execution_count": null,
      "outputs": []
    },
    {
      "cell_type": "code",
      "source": [
        "# Generate Geometric Mean Ensemble performance scores\n",
        "geometric_mean_ensemble_performance = generate_preformance_scores(test_df.label_encoded,\n",
        "                                                                geometric_mean_predictions,\n",
        "                                                                geometric_mean_probabilities)"
      ],
      "metadata": {
        "id": "-mnolB3-Sh7t",
        "execution": {
          "iopub.status.busy": "2023-11-16T08:19:49.980085Z",
          "iopub.execute_input": "2023-11-16T08:19:49.980804Z",
          "iopub.status.idle": "2023-11-16T08:19:49.991793Z",
          "shell.execute_reply.started": "2023-11-16T08:19:49.980763Z",
          "shell.execute_reply": "2023-11-16T08:19:49.990698Z"
        },
        "trusted": true
      },
      "execution_count": null,
      "outputs": []
    },
    {
      "cell_type": "code",
      "source": [
        "# Record metrics with DataFrame\n",
        "performance_df = pd.DataFrame({\n",
        "    'model_efficientnet_v2': efficientnet_v2_performance,\n",
        "    'model_vit_b16': vit_b16_performance,\n",
        "    'average_ensemble': avg_ensemble_performance,\n",
        "    'weigthed_average_ensemble': weigthed_avg_ensemble_performance,\n",
        "    'geometric_mean_ensemble': geometric_mean_ensemble_performance\n",
        "}).T\n",
        "\n",
        "# View Performance DataFrame\n",
        "performance_df"
      ],
      "metadata": {
        "papermill": {
          "duration": 0.19487,
          "end_time": "2023-02-21T14:09:10.354845",
          "exception": false,
          "start_time": "2023-02-21T14:09:10.159975",
          "status": "completed"
        },
        "tags": [],
        "id": "vHdlUXwmSh7u",
        "execution": {
          "iopub.status.busy": "2023-11-16T08:19:49.992897Z",
          "iopub.execute_input": "2023-11-16T08:19:49.993249Z",
          "iopub.status.idle": "2023-11-16T08:19:50.010633Z",
          "shell.execute_reply.started": "2023-11-16T08:19:49.993205Z",
          "shell.execute_reply": "2023-11-16T08:19:50.009632Z"
        },
        "trusted": true
      },
      "execution_count": null,
      "outputs": []
    },
    {
      "cell_type": "code",
      "source": [
        "performance_df.plot(kind=\"bar\", figsize=(10, 8)).legend(bbox_to_anchor=(1.0, 1.0))\n",
        "plt.title('Performance Metrics', fontsize=20);"
      ],
      "metadata": {
        "papermill": {
          "duration": 0.968402,
          "end_time": "2023-02-21T14:09:11.841171",
          "exception": false,
          "start_time": "2023-02-21T14:09:10.872769",
          "status": "completed"
        },
        "tags": [],
        "id": "1QAhHwMOSh7u",
        "execution": {
          "iopub.status.busy": "2023-11-16T08:19:50.011947Z",
          "iopub.execute_input": "2023-11-16T08:19:50.012241Z",
          "iopub.status.idle": "2023-11-16T08:19:50.805306Z",
          "shell.execute_reply.started": "2023-11-16T08:19:50.012213Z",
          "shell.execute_reply": "2023-11-16T08:19:50.804249Z"
        },
        "trusted": true
      },
      "execution_count": null,
      "outputs": []
    },
    {
      "cell_type": "code",
      "source": [
        "def compute_inference_time(model, ds, sample_count, inference_runs=5):\n",
        "    total_inference_times = []\n",
        "    inference_rates = []\n",
        "\n",
        "    for _ in range(inference_runs):\n",
        "        start = time.perf_counter()\n",
        "        model.predict(ds, verbose=0)\n",
        "        end = time.perf_counter()\n",
        "\n",
        "        # Compute total inference time\n",
        "        total_inference_time = end - start\n",
        "\n",
        "        # Compute inference rate\n",
        "        inference_rate = total_inference_time / sample_count\n",
        "\n",
        "        total_inference_times.append(total_inference_time)\n",
        "        inference_rates.append(inference_rate)\n",
        "\n",
        "    # Calculate average total inference time with uncertainty\n",
        "    avg_inference_time = sum(total_inference_times) / len(total_inference_times)\n",
        "    avg_inference_time_uncertainty = (max(total_inference_times) - min(total_inference_times)) / 2\n",
        "\n",
        "    # Calculate average inference rate with uncertainty\n",
        "    avg_inference_rate = sum(inference_rates) / len(inference_rates)\n",
        "    avg_inference_rate_uncertainty = (max(inference_rates) - min(inference_rates)) / 2\n",
        "\n",
        "    print('====================================================')\n",
        "    print(f'Model:\\t\\t{model.name}\\n')\n",
        "    print(f'Inference Time:\\t{round(avg_inference_time, 6)}s \\xB1 {round(avg_inference_time_uncertainty, 6)}s')\n",
        "    print(f'Inference Rate:\\t{round(avg_inference_rate, 6)}s/sample \\xB1 {round(avg_inference_rate_uncertainty, 6)}s/sample')\n",
        "    print('====================================================')\n",
        "\n",
        "    return avg_inference_time, avg_inference_rate"
      ],
      "metadata": {
        "papermill": {
          "duration": 0.22329,
          "end_time": "2023-02-21T14:09:12.579894",
          "exception": false,
          "start_time": "2023-02-21T14:09:12.356604",
          "status": "completed"
        },
        "tags": [],
        "id": "zoXBpKx2Sh7v",
        "execution": {
          "iopub.status.busy": "2023-11-16T08:19:50.806879Z",
          "iopub.execute_input": "2023-11-16T08:19:50.807309Z",
          "iopub.status.idle": "2023-11-16T08:19:50.818233Z",
          "shell.execute_reply.started": "2023-11-16T08:19:50.80726Z",
          "shell.execute_reply": "2023-11-16T08:19:50.81727Z"
        },
        "trusted": true
      },
      "execution_count": null,
      "outputs": []
    },
    {
      "cell_type": "code",
      "source": [
        "efficientnet_v2_inference = compute_inference_time(model_efficientnet_v2, test_ds, len(test_df))"
      ],
      "metadata": {
        "papermill": {
          "duration": 15.351521,
          "end_time": "2023-02-21T14:09:40.966949",
          "exception": false,
          "start_time": "2023-02-21T14:09:25.615428",
          "status": "completed"
        },
        "tags": [],
        "id": "Vv6GNqC_Sh7v",
        "execution": {
          "iopub.status.busy": "2023-11-16T08:19:50.819308Z",
          "iopub.execute_input": "2023-11-16T08:19:50.819578Z",
          "iopub.status.idle": "2023-11-16T08:20:05.743653Z",
          "shell.execute_reply.started": "2023-11-16T08:19:50.819551Z",
          "shell.execute_reply": "2023-11-16T08:20:05.742469Z"
        },
        "trusted": true
      },
      "execution_count": null,
      "outputs": []
    },
    {
      "cell_type": "code",
      "source": [
        "vit_b16_inference = compute_inference_time(model_vit_b16, test_ds, len(test_df))"
      ],
      "metadata": {
        "papermill": {
          "duration": 46.751617,
          "end_time": "2023-02-21T14:10:27.891795",
          "exception": false,
          "start_time": "2023-02-21T14:09:41.140178",
          "status": "completed"
        },
        "tags": [],
        "id": "HxbWBS7hSh7v",
        "execution": {
          "iopub.status.busy": "2023-11-16T08:20:05.745066Z",
          "iopub.execute_input": "2023-11-16T08:20:05.745395Z",
          "iopub.status.idle": "2023-11-16T08:21:01.023182Z",
          "shell.execute_reply.started": "2023-11-16T08:20:05.745363Z",
          "shell.execute_reply": "2023-11-16T08:21:01.022025Z"
        },
        "trusted": true
      },
      "execution_count": null,
      "outputs": []
    },
    {
      "cell_type": "code",
      "source": [
        "# We assume all ensembles to have the total inference of all models\n",
        "ensemble_inference = (\n",
        "    efficientnet_v2_inference[0] + vit_b16_inference[0],\n",
        "    efficientnet_v2_inference[1] + vit_b16_inference[1]\n",
        ")\n",
        "\n",
        "print('====================================================')\n",
        "print(f'Model:\\t\\tAverage/Weighted Average Ensemble\\n')\n",
        "print(f'Inference Time:\\t{ensemble_inference[0]:.6f}s')\n",
        "print(f'Inference Rate:\\t{ensemble_inference[1]:.6f}s/sample')\n",
        "print('====================================================')"
      ],
      "metadata": {
        "id": "pAIgty6CSh7w",
        "execution": {
          "iopub.status.busy": "2023-11-16T08:21:01.024451Z",
          "iopub.execute_input": "2023-11-16T08:21:01.024749Z",
          "iopub.status.idle": "2023-11-16T08:21:01.031859Z",
          "shell.execute_reply.started": "2023-11-16T08:21:01.024721Z",
          "shell.execute_reply": "2023-11-16T08:21:01.030819Z"
        },
        "trusted": true
      },
      "execution_count": null,
      "outputs": []
    },
    {
      "cell_type": "code",
      "source": [
        "# Get MCC for each model\n",
        "efficientnet_mcc = efficientnet_v2_performance[\"matthews_corrcoef\"]\n",
        "vit_mcc = vit_b16_performance[\"matthews_corrcoef\"]\n",
        "avg_mcc = avg_ensemble_performance['matthews_corrcoef']\n",
        "weighted_mcc = weigthed_avg_ensemble_performance['matthews_corrcoef']\n",
        "geometric_mcc = geometric_mean_ensemble_performance['matthews_corrcoef']\n",
        "\n",
        "# Scatter plot inference rate against MCC\n",
        "plt.figure(figsize=(12, 7))\n",
        "\n",
        "# plt.scatter(cnn_inference[1], cnn_mcc, label=model_cnn.name)\n",
        "plt.scatter(efficientnet_v2_inference[1], efficientnet_mcc, label=model_efficientnet_v2.name)\n",
        "plt.scatter(vit_b16_inference[1], vit_mcc, label=model_vit_b16.name)\n",
        "plt.scatter(ensemble_inference[1], avg_mcc, label='Average Ensemble')\n",
        "plt.scatter(ensemble_inference[1], weighted_mcc, label='Weighted Average Ensemble')\n",
        "plt.scatter(ensemble_inference[1], geometric_mcc, label='Geometric Mean Ensemble')\n",
        "\n",
        "ideal_inference_rate = 0.0001 # Desired inference time (Exaggerated)\n",
        "ideal_mcc = 1 # Max MCC\n",
        "\n",
        "# Plot lines connecting each model coords. to the ideal model coords.\n",
        "plt.scatter(ideal_inference_rate, ideal_mcc, label=\"Ideal Hypothetical Model\", marker='s')\n",
        "plt.plot([ideal_inference_rate, efficientnet_v2_inference[1]], [ideal_mcc, efficientnet_mcc], ':')\n",
        "plt.plot([ideal_inference_rate, vit_b16_inference[1]], [ideal_mcc, vit_mcc], ':')\n",
        "plt.plot([ideal_inference_rate, ensemble_inference[1]], [ideal_mcc, avg_mcc], ':')\n",
        "plt.plot([ideal_inference_rate, ensemble_inference[1]], [ideal_mcc, weighted_mcc], ':')\n",
        "plt.plot([ideal_inference_rate, ensemble_inference[1]], [ideal_mcc, geometric_mcc], ':')\n",
        "\n",
        "plt.legend()\n",
        "plt.title(\"Trade-Offs: Inference Rate vs. Matthews Correlation Coefficient\", fontsize=20)\n",
        "plt.xlabel(\"Inference Rate (s/sample)\", fontsize=16)\n",
        "plt.ylabel(\"Matthews Correlation Coefficient\", fontsize=16);"
      ],
      "metadata": {
        "papermill": {
          "duration": 0.55802,
          "end_time": "2023-02-21T14:10:28.708043",
          "exception": false,
          "start_time": "2023-02-21T14:10:28.150023",
          "status": "completed"
        },
        "tags": [],
        "id": "vUITZyA_Sh7w",
        "execution": {
          "iopub.status.busy": "2023-11-16T08:21:01.033482Z",
          "iopub.execute_input": "2023-11-16T08:21:01.03397Z",
          "iopub.status.idle": "2023-11-16T08:21:01.455499Z",
          "shell.execute_reply.started": "2023-11-16T08:21:01.033929Z",
          "shell.execute_reply": "2023-11-16T08:21:01.4544Z"
        },
        "trusted": true
      },
      "execution_count": null,
      "outputs": []
    },
    {
      "cell_type": "code",
      "source": [
        "def dist(x1, x2, y1, y2):\n",
        "    return np.sqrt(np.square(x2 - x1) + np.square(y2 - y1))\n",
        "\n",
        "# List model names\n",
        "model_names = [\n",
        "    model_efficientnet_v2.name,\n",
        "    model_vit_b16.name,\n",
        "    'Average Ensemble',\n",
        "    'Weighted Average Ensemble',\n",
        "    'Geometric Mean Ensemble'\n",
        "]\n",
        "\n",
        "# List model mcc scores\n",
        "model_scores = [\n",
        "    efficientnet_mcc,\n",
        "    vit_mcc,\n",
        "    avg_mcc,\n",
        "    weighted_mcc,\n",
        "    geometric_mcc\n",
        "]\n",
        "\n",
        "# List model inference rates\n",
        "model_rates = [\n",
        "    efficientnet_v2_inference[1],\n",
        "    vit_b16_inference[1],\n",
        "    ensemble_inference[1],\n",
        "    ensemble_inference[1],\n",
        "    ensemble_inference[1]\n",
        "]\n",
        "\n",
        "# Compute trade-off's\n",
        "trade_offs = [dist(ideal_inference_rate, inference_rate, ideal_mcc, score)\n",
        "              for inference_rate, score in zip(model_rates, model_scores)]\n",
        "\n",
        "# View model trade-off scores\n",
        "print('Trade-Off Score: Inference Rate vs. MCC')\n",
        "for name, inference_rate, score, trade in zip(model_names, model_rates, model_scores, trade_offs):\n",
        "    print('---------------------------------------------------------')\n",
        "    print(f'Model: {name}\\n\\nInference Rate: {inference_rate:.5f} | MCC: {score:.4f} | Trade-Off: {trade:.4f}')\n",
        "\n",
        "# View model with best trade-off score\n",
        "print('=========================================================')\n",
        "best_model_trade = min(trade_offs)\n",
        "best_model_name = model_names[np.argmin(trade_offs)]\n",
        "print(f'\\nBest Optimal Model:\\t{best_model_name}\\nTrade-Off:\\t\\t{best_model_trade:.4f}\\n')\n",
        "print('=========================================================')"
      ],
      "metadata": {
        "papermill": {
          "duration": 0.226206,
          "end_time": "2023-02-21T14:10:29.104946",
          "exception": false,
          "start_time": "2023-02-21T14:10:28.87874",
          "status": "completed"
        },
        "tags": [],
        "id": "QPtEVfRTSh7x",
        "execution": {
          "iopub.status.busy": "2023-11-16T08:21:01.456887Z",
          "iopub.execute_input": "2023-11-16T08:21:01.457225Z",
          "iopub.status.idle": "2023-11-16T08:21:01.469391Z",
          "shell.execute_reply.started": "2023-11-16T08:21:01.457188Z",
          "shell.execute_reply": "2023-11-16T08:21:01.468335Z"
        },
        "trusted": true
      },
      "execution_count": null,
      "outputs": []
    }
  ]
}